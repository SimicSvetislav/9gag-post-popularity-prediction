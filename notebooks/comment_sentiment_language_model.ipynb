{
 "cells": [
  {
   "cell_type": "code",
   "execution_count": 1,
   "metadata": {},
   "outputs": [],
   "source": [
    "import transformers\n",
    "from transformers import BertModel, BertTokenizer, AdamW, get_linear_schedule_with_warmup\n",
    "import torch\n",
    "\n",
    "import numpy as np\n",
    "import pandas as pd\n",
    "import seaborn as sns\n",
    "from pylab import rcParams\n",
    "import matplotlib.pyplot as plt\n",
    "from matplotlib import rc\n",
    "from sklearn.model_selection import train_test_split\n",
    "from sklearn.metrics import confusion_matrix, classification_report\n",
    "from collections import defaultdict\n",
    "from textwrap import wrap\n",
    "\n",
    "from torch import nn, optim\n",
    "from torch.utils.data import Dataset, DataLoader\n",
    "import torch.nn.functional as F\n",
    "\n",
    "%matplotlib inline"
   ]
  },
  {
   "cell_type": "code",
   "execution_count": 3,
   "metadata": {},
   "outputs": [
    {
     "data": {
      "text/plain": [
       "device(type='cuda', index=0)"
      ]
     },
     "execution_count": 3,
     "metadata": {},
     "output_type": "execute_result"
    }
   ],
   "source": [
    "class_names = ['negative', 'neutral', 'positive']\n",
    "PRE_TRAINED_MODEL_NAME = 'bert-base-cased'\n",
    "\n",
    "BATCH_SIZE = 1\n",
    "MAX_LEN = 160\n",
    "\n",
    "df = pd.read_csv(\"reviews.csv\")\n",
    "tokenizer = BertTokenizer.from_pretrained(PRE_TRAINED_MODEL_NAME)\n",
    "\n",
    "sample_txt = 'When was I last outside? I am stuck at home for 2 weeks.'\n",
    "\n",
    "sns.set(style='whitegrid', palette='muted', font_scale=1.2)\n",
    "HAPPY_COLORS_PALETTE = [\"#01BEFE\", \"#FFDD00\", \"#FF7D00\", \"#FF006D\", \"#ADFF02\", \"#8F00FF\"]\n",
    "sns.set_palette(sns.color_palette(HAPPY_COLORS_PALETTE))\n",
    "rcParams['figure.figsize'] = 12, 8\n",
    "RANDOM_SEED = 42\n",
    "np.random.seed(RANDOM_SEED)\n",
    "torch.manual_seed(RANDOM_SEED)\n",
    "\n",
    "device = torch.device(\"cuda:0\" if torch.cuda.is_available() else \"cpu\")\n",
    "\n",
    "loss_fn = nn.CrossEntropyLoss().to(device)\n",
    "\n",
    "device"
   ]
  },
  {
   "cell_type": "code",
   "execution_count": 4,
   "metadata": {
    "scrolled": true
   },
   "outputs": [
    {
     "name": "stderr",
     "output_type": "stream",
     "text": [
      "Downloading...\n",
      "From: https://drive.google.com/uc?id=1S6qMioqPJjyBLpLVz4gmRTnJHnjitnuV\n",
      "To: C:\\Users\\SvetislavSimic\\Desktop\\9gag\\9gag-post-popularity-prediction\\notebooks\\apps.csv\n",
      "\n",
      "  0%|          | 0.00/134k [00:00<?, ?B/s]\n",
      "100%|##########| 134k/134k [00:00<00:00, 1.23MB/s]\n",
      "100%|##########| 134k/134k [00:00<00:00, 1.23MB/s]\n",
      "Downloading...\n",
      "From: https://drive.google.com/uc?id=1zdmewp7ayS4js4VtrJEHzAheSW-5NBZv\n",
      "To: C:\\Users\\SvetislavSimic\\Desktop\\9gag\\9gag-post-popularity-prediction\\notebooks\\reviews.csv\n",
      "\n",
      "0.00B [00:00, ?B/s]\n",
      "524kB [00:00, 942kB/s]\n",
      "1.05MB [00:01, 971kB/s]\n",
      "1.57MB [00:01, 1.00MB/s]\n",
      "2.10MB [00:02, 1.03MB/s]\n",
      "2.62MB [00:02, 1.04MB/s]\n",
      "3.15MB [00:03, 1.02MB/s]\n",
      "3.67MB [00:03, 819kB/s] \n",
      "4.19MB [00:04, 751kB/s]\n",
      "4.72MB [00:05, 750kB/s]\n",
      "5.24MB [00:06, 759kB/s]\n",
      "5.77MB [00:06, 724kB/s]\n",
      "6.29MB [00:07, 810kB/s]\n",
      "6.82MB [00:08, 761kB/s]\n",
      "7.17MB [00:08, 737kB/s]\n",
      "7.17MB [00:08, 819kB/s]\n"
     ]
    }
   ],
   "source": [
    "!gdown --id 1S6qMioqPJjyBLpLVz4gmRTnJHnjitnuV\n",
    "!gdown --id 1zdmewp7ayS4js4VtrJEHzAheSW-5NBZv"
   ]
  },
  {
   "cell_type": "code",
   "execution_count": 5,
   "metadata": {},
   "outputs": [
    {
     "data": {
      "text/html": [
       "<div>\n",
       "<style scoped>\n",
       "    .dataframe tbody tr th:only-of-type {\n",
       "        vertical-align: middle;\n",
       "    }\n",
       "\n",
       "    .dataframe tbody tr th {\n",
       "        vertical-align: top;\n",
       "    }\n",
       "\n",
       "    .dataframe thead th {\n",
       "        text-align: right;\n",
       "    }\n",
       "</style>\n",
       "<table border=\"1\" class=\"dataframe\">\n",
       "  <thead>\n",
       "    <tr style=\"text-align: right;\">\n",
       "      <th></th>\n",
       "      <th>userName</th>\n",
       "      <th>userImage</th>\n",
       "      <th>content</th>\n",
       "      <th>score</th>\n",
       "      <th>thumbsUpCount</th>\n",
       "      <th>reviewCreatedVersion</th>\n",
       "      <th>at</th>\n",
       "      <th>replyContent</th>\n",
       "      <th>repliedAt</th>\n",
       "      <th>sortOrder</th>\n",
       "      <th>appId</th>\n",
       "    </tr>\n",
       "  </thead>\n",
       "  <tbody>\n",
       "    <tr>\n",
       "      <th>0</th>\n",
       "      <td>Andrew Thomas</td>\n",
       "      <td>https://lh3.googleusercontent.com/a-/AOh14GiHd...</td>\n",
       "      <td>Update: After getting a response from the deve...</td>\n",
       "      <td>1</td>\n",
       "      <td>21</td>\n",
       "      <td>4.17.0.3</td>\n",
       "      <td>2020-04-05 22:25:57</td>\n",
       "      <td>According to our TOS, and the term you have ag...</td>\n",
       "      <td>2020-04-05 15:10:24</td>\n",
       "      <td>most_relevant</td>\n",
       "      <td>com.anydo</td>\n",
       "    </tr>\n",
       "    <tr>\n",
       "      <th>1</th>\n",
       "      <td>Craig Haines</td>\n",
       "      <td>https://lh3.googleusercontent.com/-hoe0kwSJgPQ...</td>\n",
       "      <td>Used it for a fair amount of time without any ...</td>\n",
       "      <td>1</td>\n",
       "      <td>11</td>\n",
       "      <td>4.17.0.3</td>\n",
       "      <td>2020-04-04 13:40:01</td>\n",
       "      <td>It sounds like you logged in with a different ...</td>\n",
       "      <td>2020-04-05 15:11:35</td>\n",
       "      <td>most_relevant</td>\n",
       "      <td>com.anydo</td>\n",
       "    </tr>\n",
       "    <tr>\n",
       "      <th>2</th>\n",
       "      <td>steven adkins</td>\n",
       "      <td>https://lh3.googleusercontent.com/a-/AOh14GiXw...</td>\n",
       "      <td>Your app sucks now!!!!! Used to be good but no...</td>\n",
       "      <td>1</td>\n",
       "      <td>17</td>\n",
       "      <td>4.17.0.3</td>\n",
       "      <td>2020-04-01 16:18:13</td>\n",
       "      <td>This sounds odd! We are not aware of any issue...</td>\n",
       "      <td>2020-04-02 16:05:56</td>\n",
       "      <td>most_relevant</td>\n",
       "      <td>com.anydo</td>\n",
       "    </tr>\n",
       "    <tr>\n",
       "      <th>3</th>\n",
       "      <td>Lars Panzerbjørn</td>\n",
       "      <td>https://lh3.googleusercontent.com/a-/AOh14Gg-h...</td>\n",
       "      <td>It seems OK, but very basic. Recurring tasks n...</td>\n",
       "      <td>1</td>\n",
       "      <td>192</td>\n",
       "      <td>4.17.0.2</td>\n",
       "      <td>2020-03-12 08:17:34</td>\n",
       "      <td>We do offer this option as part of the Advance...</td>\n",
       "      <td>2020-03-15 06:20:13</td>\n",
       "      <td>most_relevant</td>\n",
       "      <td>com.anydo</td>\n",
       "    </tr>\n",
       "    <tr>\n",
       "      <th>4</th>\n",
       "      <td>Scott Prewitt</td>\n",
       "      <td>https://lh3.googleusercontent.com/-K-X1-YsVd6U...</td>\n",
       "      <td>Absolutely worthless. This app runs a prohibit...</td>\n",
       "      <td>1</td>\n",
       "      <td>42</td>\n",
       "      <td>4.17.0.2</td>\n",
       "      <td>2020-03-14 17:41:01</td>\n",
       "      <td>We're sorry you feel this way! 90% of the app ...</td>\n",
       "      <td>2020-03-15 23:45:51</td>\n",
       "      <td>most_relevant</td>\n",
       "      <td>com.anydo</td>\n",
       "    </tr>\n",
       "  </tbody>\n",
       "</table>\n",
       "</div>"
      ],
      "text/plain": [
       "           userName                                          userImage  \\\n",
       "0     Andrew Thomas  https://lh3.googleusercontent.com/a-/AOh14GiHd...   \n",
       "1      Craig Haines  https://lh3.googleusercontent.com/-hoe0kwSJgPQ...   \n",
       "2     steven adkins  https://lh3.googleusercontent.com/a-/AOh14GiXw...   \n",
       "3  Lars Panzerbjørn  https://lh3.googleusercontent.com/a-/AOh14Gg-h...   \n",
       "4     Scott Prewitt  https://lh3.googleusercontent.com/-K-X1-YsVd6U...   \n",
       "\n",
       "                                             content  score  thumbsUpCount  \\\n",
       "0  Update: After getting a response from the deve...      1             21   \n",
       "1  Used it for a fair amount of time without any ...      1             11   \n",
       "2  Your app sucks now!!!!! Used to be good but no...      1             17   \n",
       "3  It seems OK, but very basic. Recurring tasks n...      1            192   \n",
       "4  Absolutely worthless. This app runs a prohibit...      1             42   \n",
       "\n",
       "  reviewCreatedVersion                   at  \\\n",
       "0             4.17.0.3  2020-04-05 22:25:57   \n",
       "1             4.17.0.3  2020-04-04 13:40:01   \n",
       "2             4.17.0.3  2020-04-01 16:18:13   \n",
       "3             4.17.0.2  2020-03-12 08:17:34   \n",
       "4             4.17.0.2  2020-03-14 17:41:01   \n",
       "\n",
       "                                        replyContent            repliedAt  \\\n",
       "0  According to our TOS, and the term you have ag...  2020-04-05 15:10:24   \n",
       "1  It sounds like you logged in with a different ...  2020-04-05 15:11:35   \n",
       "2  This sounds odd! We are not aware of any issue...  2020-04-02 16:05:56   \n",
       "3  We do offer this option as part of the Advance...  2020-03-15 06:20:13   \n",
       "4  We're sorry you feel this way! 90% of the app ...  2020-03-15 23:45:51   \n",
       "\n",
       "       sortOrder      appId  \n",
       "0  most_relevant  com.anydo  \n",
       "1  most_relevant  com.anydo  \n",
       "2  most_relevant  com.anydo  \n",
       "3  most_relevant  com.anydo  \n",
       "4  most_relevant  com.anydo  "
      ]
     },
     "execution_count": 5,
     "metadata": {},
     "output_type": "execute_result"
    }
   ],
   "source": [
    "df = pd.read_csv(\"reviews.csv\")\n",
    "df.head()"
   ]
  },
  {
   "cell_type": "code",
   "execution_count": 6,
   "metadata": {},
   "outputs": [
    {
     "data": {
      "text/plain": [
       "(15746, 11)"
      ]
     },
     "execution_count": 6,
     "metadata": {},
     "output_type": "execute_result"
    }
   ],
   "source": [
    "df.shape"
   ]
  },
  {
   "cell_type": "code",
   "execution_count": 7,
   "metadata": {},
   "outputs": [
    {
     "name": "stdout",
     "output_type": "stream",
     "text": [
      "<class 'pandas.core.frame.DataFrame'>\n",
      "RangeIndex: 15746 entries, 0 to 15745\n",
      "Data columns (total 11 columns):\n",
      " #   Column                Non-Null Count  Dtype \n",
      "---  ------                --------------  ----- \n",
      " 0   userName              15746 non-null  object\n",
      " 1   userImage             15746 non-null  object\n",
      " 2   content               15746 non-null  object\n",
      " 3   score                 15746 non-null  int64 \n",
      " 4   thumbsUpCount         15746 non-null  int64 \n",
      " 5   reviewCreatedVersion  13533 non-null  object\n",
      " 6   at                    15746 non-null  object\n",
      " 7   replyContent          7367 non-null   object\n",
      " 8   repliedAt             7367 non-null   object\n",
      " 9   sortOrder             15746 non-null  object\n",
      " 10  appId                 15746 non-null  object\n",
      "dtypes: int64(2), object(9)\n",
      "memory usage: 1.3+ MB\n"
     ]
    }
   ],
   "source": [
    "df.info()"
   ]
  },
  {
   "cell_type": "code",
   "execution_count": 8,
   "metadata": {},
   "outputs": [
    {
     "data": {
      "image/png": "[encoded data removed]",
      "text/plain": [
       "<Figure size 864x576 with 1 Axes>"
      ]
     },
     "metadata": {},
     "output_type": "display_data"
    }
   ],
   "source": [
    "sns.countplot(df.score)\n",
    "plt.xlabel('review score');"
   ]
  },
  {
   "cell_type": "code",
   "execution_count": 19,
   "metadata": {},
   "outputs": [],
   "source": [
    "def to_sentiment(rating):\n",
    "  rating = int(rating)\n",
    "  if rating <= 2:\n",
    "    return 0\n",
    "  elif rating == 3:\n",
    "    return 1\n",
    "  else:\n",
    "    return 2"
   ]
  },
  {
   "cell_type": "code",
   "execution_count": 20,
   "metadata": {},
   "outputs": [],
   "source": [
    "df['sentiment'] = df.score.apply(to_sentiment)"
   ]
  },
  {
   "cell_type": "code",
   "execution_count": 21,
   "metadata": {},
   "outputs": [
    {
     "data": {
      "image/png": "[encoded data removed]",
      "text/plain": [
       "<Figure size 864x576 with 1 Axes>"
      ]
     },
     "metadata": {},
     "output_type": "display_data"
    }
   ],
   "source": [
    "ax = sns.countplot(df.sentiment)\n",
    "plt.xlabel('review sentiment')\n",
    "ax.set_xticklabels(class_names);"
   ]
  },
  {
   "cell_type": "code",
   "execution_count": 16,
   "metadata": {},
   "outputs": [
    {
     "name": "stdout",
     "output_type": "stream",
     "text": [
      " Sentence: When was I last outside? I am stuck at home for 2 weeks.\n",
      "   Tokens: ['When', 'was', 'I', 'last', 'outside', '?', 'I', 'am', 'stuck', 'at', 'home', 'for', '2', 'weeks', '.']\n",
      "Token IDs: [1332, 1108, 146, 1314, 1796, 136, 146, 1821, 5342, 1120, 1313, 1111, 123, 2277, 119]\n"
     ]
    }
   ],
   "source": [
    "tokens = tokenizer.tokenize(sample_txt)\n",
    "token_ids = tokenizer.convert_tokens_to_ids(tokens)\n",
    "print(f' Sentence: {sample_txt}')\n",
    "print(f'   Tokens: {tokens}')\n",
    "print(f'Token IDs: {token_ids}')"
   ]
  },
  {
   "cell_type": "code",
   "execution_count": 17,
   "metadata": {},
   "outputs": [
    {
     "data": {
      "text/plain": [
       "('[SEP]', 102)"
      ]
     },
     "execution_count": 17,
     "metadata": {},
     "output_type": "execute_result"
    }
   ],
   "source": [
    "tokenizer.sep_token, tokenizer.sep_token_id"
   ]
  },
  {
   "cell_type": "code",
   "execution_count": 18,
   "metadata": {},
   "outputs": [
    {
     "data": {
      "text/plain": [
       "('[CLS]', 101)"
      ]
     },
     "execution_count": 18,
     "metadata": {},
     "output_type": "execute_result"
    }
   ],
   "source": [
    "tokenizer.cls_token, tokenizer.cls_token_id"
   ]
  },
  {
   "cell_type": "code",
   "execution_count": 19,
   "metadata": {},
   "outputs": [
    {
     "data": {
      "text/plain": [
       "('[PAD]', 0)"
      ]
     },
     "execution_count": 19,
     "metadata": {},
     "output_type": "execute_result"
    }
   ],
   "source": [
    "tokenizer.pad_token, tokenizer.pad_token_id"
   ]
  },
  {
   "cell_type": "code",
   "execution_count": 20,
   "metadata": {},
   "outputs": [
    {
     "data": {
      "text/plain": [
       "('[UNK]', 100)"
      ]
     },
     "execution_count": 20,
     "metadata": {},
     "output_type": "execute_result"
    }
   ],
   "source": [
    "tokenizer.unk_token, tokenizer.unk_token_id"
   ]
  },
  {
   "cell_type": "code",
   "execution_count": 21,
   "metadata": {},
   "outputs": [
    {
     "data": {
      "text/plain": [
       "dict_keys(['input_ids', 'attention_mask'])"
      ]
     },
     "execution_count": 21,
     "metadata": {},
     "output_type": "execute_result"
    }
   ],
   "source": [
    "encoding = tokenizer.encode_plus(\n",
    "  sample_txt,\n",
    "  max_length=32,\n",
    "  add_special_tokens=True, # Add '[CLS]' and '[SEP]'\n",
    "  return_token_type_ids=False,\n",
    "  pad_to_max_length=True,\n",
    "  return_attention_mask=True,\n",
    "  return_tensors='pt',  # Return PyTorch tensors\n",
    ")\n",
    "\n",
    "encoding.keys()"
   ]
  },
  {
   "cell_type": "code",
   "execution_count": 22,
   "metadata": {},
   "outputs": [
    {
     "name": "stdout",
     "output_type": "stream",
     "text": [
      "32\n"
     ]
    },
    {
     "data": {
      "text/plain": [
       "tensor([ 101, 1332, 1108,  146, 1314, 1796,  136,  146, 1821, 5342, 1120, 1313,\n",
       "        1111,  123, 2277,  119,  102,    0,    0,    0,    0,    0,    0,    0,\n",
       "           0,    0,    0,    0,    0,    0,    0,    0])"
      ]
     },
     "execution_count": 22,
     "metadata": {},
     "output_type": "execute_result"
    }
   ],
   "source": [
    "print(len(encoding['input_ids'][0]))\n",
    "encoding['input_ids'][0]"
   ]
  },
  {
   "cell_type": "code",
   "execution_count": 23,
   "metadata": {},
   "outputs": [
    {
     "name": "stdout",
     "output_type": "stream",
     "text": [
      "32\n"
     ]
    },
    {
     "data": {
      "text/plain": [
       "tensor([[1, 1, 1, 1, 1, 1, 1, 1, 1, 1, 1, 1, 1, 1, 1, 1, 1, 0, 0, 0, 0, 0, 0, 0,\n",
       "         0, 0, 0, 0, 0, 0, 0, 0]])"
      ]
     },
     "execution_count": 23,
     "metadata": {},
     "output_type": "execute_result"
    }
   ],
   "source": [
    "print(len(encoding['attention_mask'][0]))\n",
    "encoding['attention_mask']"
   ]
  },
  {
   "cell_type": "code",
   "execution_count": 24,
   "metadata": {},
   "outputs": [
    {
     "data": {
      "text/plain": [
       "['[CLS]',\n",
       " 'When',\n",
       " 'was',\n",
       " 'I',\n",
       " 'last',\n",
       " 'outside',\n",
       " '?',\n",
       " 'I',\n",
       " 'am',\n",
       " 'stuck',\n",
       " 'at',\n",
       " 'home',\n",
       " 'for',\n",
       " '2',\n",
       " 'weeks',\n",
       " '.',\n",
       " '[SEP]',\n",
       " '[PAD]',\n",
       " '[PAD]',\n",
       " '[PAD]',\n",
       " '[PAD]',\n",
       " '[PAD]',\n",
       " '[PAD]',\n",
       " '[PAD]',\n",
       " '[PAD]',\n",
       " '[PAD]',\n",
       " '[PAD]',\n",
       " '[PAD]',\n",
       " '[PAD]',\n",
       " '[PAD]',\n",
       " '[PAD]',\n",
       " '[PAD]']"
      ]
     },
     "execution_count": 24,
     "metadata": {},
     "output_type": "execute_result"
    }
   ],
   "source": [
    "tokenizer.convert_ids_to_tokens(encoding['input_ids'][0])"
   ]
  },
  {
   "cell_type": "code",
   "execution_count": 27,
   "metadata": {},
   "outputs": [],
   "source": [
    "token_lens = []\n",
    "max_token_len = 0\n",
    "\n",
    "for txt in df.content:\n",
    "  tokens = tokenizer.encode(txt, max_length=512)\n",
    "  token_lens.append(len(tokens))\n",
    "  if max_token_len < len(tokens):\n",
    "    max_token_len = len(tokens)"
   ]
  },
  {
   "cell_type": "code",
   "execution_count": 28,
   "metadata": {},
   "outputs": [
    {
     "data": {
      "image/png": "[encoded data removed]",
      "text/plain": [
       "<Figure size 864x576 with 1 Axes>"
      ]
     },
     "metadata": {},
     "output_type": "display_data"
    }
   ],
   "source": [
    "sns.distplot(token_lens)\n",
    "plt.xlim([0, 256]);\n",
    "plt.xlabel('Token count');"
   ]
  },
  {
   "cell_type": "code",
   "execution_count": 29,
   "metadata": {},
   "outputs": [
    {
     "name": "stdout",
     "output_type": "stream",
     "text": [
      "Max token length : 512\n"
     ]
    }
   ],
   "source": [
    "print(\"Max token length :\", max_token_len)"
   ]
  },
  {
   "cell_type": "code",
   "execution_count": 22,
   "metadata": {},
   "outputs": [],
   "source": [
    "class GPReviewDataset(Dataset):\n",
    "  def __init__(self, reviews, targets, tokenizer, max_len):\n",
    "    self.reviews = reviews\n",
    "    self.targets = targets\n",
    "    self.tokenizer = tokenizer\n",
    "    self.max_len = max_len\n",
    "  def __len__(self):\n",
    "    return len(self.reviews)\n",
    "  def __getitem__(self, item):\n",
    "    review = str(self.reviews[item])\n",
    "    target = self.targets[item]\n",
    "    encoding = self.tokenizer.encode_plus(\n",
    "      review,\n",
    "      add_special_tokens=True,\n",
    "      max_length=self.max_len,\n",
    "      return_token_type_ids=False,\n",
    "      pad_to_max_length=True,\n",
    "      return_attention_mask=True,\n",
    "      return_tensors='pt',\n",
    "    )\n",
    "    return {\n",
    "      'review_text': review,\n",
    "      'input_ids': encoding['input_ids'].flatten(),\n",
    "      'attention_mask': encoding['attention_mask'].flatten(),\n",
    "      'targets': torch.tensor(target, dtype=torch.long)\n",
    "    }"
   ]
  },
  {
   "cell_type": "code",
   "execution_count": 23,
   "metadata": {},
   "outputs": [],
   "source": [
    "df_train, df_test = train_test_split(\n",
    "  df,\n",
    "  test_size=0.1,\n",
    "  random_state=RANDOM_SEED\n",
    ")\n",
    "df_val, df_test = train_test_split(\n",
    "  df_test,\n",
    "  test_size=0.5,\n",
    "  random_state=RANDOM_SEED\n",
    ")"
   ]
  },
  {
   "cell_type": "code",
   "execution_count": 24,
   "metadata": {},
   "outputs": [
    {
     "data": {
      "text/plain": [
       "((14171, 12), (787, 12), (788, 12))"
      ]
     },
     "execution_count": 24,
     "metadata": {},
     "output_type": "execute_result"
    }
   ],
   "source": [
    "df_train.shape, df_val.shape, df_test.shape"
   ]
  },
  {
   "cell_type": "code",
   "execution_count": 25,
   "metadata": {},
   "outputs": [],
   "source": [
    "def create_data_loader(df, tokenizer, max_len, batch_size):\n",
    "  ds = GPReviewDataset(\n",
    "    reviews=df.content.to_numpy(),\n",
    "    targets=df.sentiment.to_numpy(),\n",
    "    tokenizer=tokenizer,\n",
    "    max_len=max_len\n",
    "  )\n",
    "  return DataLoader(\n",
    "    ds,\n",
    "    batch_size=batch_size,\n",
    "    num_workers=0\n",
    "  )"
   ]
  },
  {
   "cell_type": "code",
   "execution_count": 26,
   "metadata": {},
   "outputs": [],
   "source": [
    "train_data_loader = create_data_loader(df_train, tokenizer, MAX_LEN, BATCH_SIZE)\n",
    "val_data_loader = create_data_loader(df_val, tokenizer, MAX_LEN, BATCH_SIZE)\n",
    "test_data_loader = create_data_loader(df_test, tokenizer, MAX_LEN, BATCH_SIZE)"
   ]
  },
  {
   "cell_type": "code",
   "execution_count": 32,
   "metadata": {},
   "outputs": [
    {
     "data": {
      "text/plain": [
       "dict_keys(['review_text', 'input_ids', 'attention_mask', 'targets'])"
      ]
     },
     "execution_count": 32,
     "metadata": {},
     "output_type": "execute_result"
    }
   ],
   "source": [
    "data = next(iter(train_data_loader))\n",
    "data.keys()"
   ]
  },
  {
   "cell_type": "code",
   "execution_count": 54,
   "metadata": {},
   "outputs": [
    {
     "name": "stdout",
     "output_type": "stream",
     "text": [
      "torch.Size([16, 160])\n",
      "torch.Size([16, 160])\n",
      "torch.Size([16])\n"
     ]
    }
   ],
   "source": [
    "print(data['input_ids'].shape)\n",
    "print(data['attention_mask'].shape)\n",
    "print(data['targets'].shape)"
   ]
  },
  {
   "cell_type": "code",
   "execution_count": 55,
   "metadata": {},
   "outputs": [
    {
     "data": {
      "application/vnd.jupyter.widget-view+json": {
       "model_id": "03cfed586924405cb3cbbb86f1452b5c",
       "version_major": 2,
       "version_minor": 0
      },
      "text/plain": [
       "HBox(children=(FloatProgress(value=0.0, description='Downloading', max=433.0, style=ProgressStyle(description_…"
      ]
     },
     "metadata": {},
     "output_type": "display_data"
    },
    {
     "name": "stdout",
     "output_type": "stream",
     "text": [
      "\n"
     ]
    },
    {
     "data": {
      "application/vnd.jupyter.widget-view+json": {
       "model_id": "8fd63b03b64e40c9bcb70ca24ac17ec6",
       "version_major": 2,
       "version_minor": 0
      },
      "text/plain": [
       "HBox(children=(FloatProgress(value=0.0, description='Downloading', max=435779157.0, style=ProgressStyle(descri…"
      ]
     },
     "metadata": {},
     "output_type": "display_data"
    },
    {
     "name": "stdout",
     "output_type": "stream",
     "text": [
      "\n"
     ]
    }
   ],
   "source": [
    "bert_model = BertModel.from_pretrained(PRE_TRAINED_MODEL_NAME)"
   ]
  },
  {
   "cell_type": "code",
   "execution_count": 56,
   "metadata": {},
   "outputs": [],
   "source": [
    "last_hidden_state, pooled_output = bert_model(\n",
    "  input_ids=encoding['input_ids'],\n",
    "  attention_mask=encoding['attention_mask']\n",
    ")"
   ]
  },
  {
   "cell_type": "code",
   "execution_count": 57,
   "metadata": {},
   "outputs": [
    {
     "data": {
      "text/plain": [
       "torch.Size([1, 32, 768])"
      ]
     },
     "execution_count": 57,
     "metadata": {},
     "output_type": "execute_result"
    }
   ],
   "source": [
    "last_hidden_state.shape"
   ]
  },
  {
   "cell_type": "code",
   "execution_count": 58,
   "metadata": {},
   "outputs": [
    {
     "data": {
      "text/plain": [
       "768"
      ]
     },
     "execution_count": 58,
     "metadata": {},
     "output_type": "execute_result"
    }
   ],
   "source": [
    "bert_model.config.hidden_size"
   ]
  },
  {
   "cell_type": "code",
   "execution_count": 59,
   "metadata": {},
   "outputs": [
    {
     "data": {
      "text/plain": [
       "torch.Size([1, 768])"
      ]
     },
     "execution_count": 59,
     "metadata": {},
     "output_type": "execute_result"
    }
   ],
   "source": [
    "pooled_output.shape"
   ]
  },
  {
   "cell_type": "code",
   "execution_count": 5,
   "metadata": {},
   "outputs": [],
   "source": [
    "class SentimentClassifier(nn.Module):\n",
    "  def __init__(self, n_classes):\n",
    "    super(SentimentClassifier, self).__init__()\n",
    "    self.bert = BertModel.from_pretrained(PRE_TRAINED_MODEL_NAME)\n",
    "    self.drop = nn.Dropout(p=0.3)\n",
    "    self.out = nn.Linear(self.bert.config.hidden_size, n_classes)\n",
    "  def forward(self, input_ids, attention_mask):\n",
    "    _, pooled_output = self.bert(\n",
    "      input_ids=input_ids,\n",
    "      attention_mask=attention_mask\n",
    "    )\n",
    "    output = self.drop(pooled_output)\n",
    "    return self.out(output)"
   ]
  },
  {
   "cell_type": "code",
   "execution_count": 6,
   "metadata": {},
   "outputs": [],
   "source": [
    "model = SentimentClassifier(len(class_names))\n",
    "model = model.to(device)"
   ]
  },
  {
   "cell_type": "code",
   "execution_count": 33,
   "metadata": {},
   "outputs": [
    {
     "name": "stdout",
     "output_type": "stream",
     "text": [
      "torch.Size([16, 160])\n",
      "torch.Size([16, 160])\n"
     ]
    }
   ],
   "source": [
    "input_ids = data['input_ids'].to(device)\n",
    "attention_mask = data['attention_mask'].to(device)\n",
    "print(input_ids.shape) # batch size x seq length\n",
    "print(attention_mask.shape) # batch size x seq length"
   ]
  },
  {
   "cell_type": "code",
   "execution_count": 38,
   "metadata": {
    "scrolled": true
   },
   "outputs": [],
   "source": [
    "torch.cuda.empty_cache()\n",
    "# F.softmax(model(input_ids, attention_mask), dim=1)"
   ]
  },
  {
   "cell_type": "markdown",
   "metadata": {},
   "source": [
    "## Training"
   ]
  },
  {
   "cell_type": "code",
   "execution_count": 39,
   "metadata": {},
   "outputs": [],
   "source": [
    "EPOCHS = 10\n",
    "optimizer = AdamW(model.parameters(), lr=2e-5, correct_bias=False)\n",
    "total_steps = len(train_data_loader) * EPOCHS\n",
    "scheduler = get_linear_schedule_with_warmup(\n",
    "  optimizer,\n",
    "  num_warmup_steps=0,\n",
    "  num_training_steps=total_steps\n",
    ")\n",
    "loss_fn = nn.CrossEntropyLoss().to(device)"
   ]
  },
  {
   "cell_type": "code",
   "execution_count": 40,
   "metadata": {},
   "outputs": [],
   "source": [
    "def train_epoch(\n",
    "  model,\n",
    "  data_loader,\n",
    "  loss_fn,\n",
    "  optimizer,\n",
    "  device,\n",
    "  scheduler,\n",
    "  n_examples\n",
    "):\n",
    "  model = model.train()\n",
    "  losses = []\n",
    "  correct_predictions = 0\n",
    "  for d in data_loader:\n",
    "    input_ids = d[\"input_ids\"].to(device)\n",
    "    attention_mask = d[\"attention_mask\"].to(device)\n",
    "    targets = d[\"targets\"].to(device)\n",
    "    outputs = model(\n",
    "      input_ids=input_ids,\n",
    "      attention_mask=attention_mask\n",
    "    )\n",
    "    _, preds = torch.max(outputs, dim=1)\n",
    "    loss = loss_fn(outputs, targets)\n",
    "    correct_predictions += torch.sum(preds == targets)\n",
    "    losses.append(loss.item())\n",
    "    loss.backward()\n",
    "    nn.utils.clip_grad_norm_(model.parameters(), max_norm=1.0)\n",
    "    optimizer.step()\n",
    "    scheduler.step()\n",
    "    optimizer.zero_grad()\n",
    "  return correct_predictions.double() / n_examples, np.mean(losses)"
   ]
  },
  {
   "cell_type": "code",
   "execution_count": 41,
   "metadata": {},
   "outputs": [],
   "source": [
    "def eval_model(model, data_loader, loss_fn, device, n_examples):\n",
    "  model = model.eval()\n",
    "  losses = []\n",
    "  correct_predictions = 0\n",
    "  with torch.no_grad():\n",
    "    for d in data_loader:\n",
    "      input_ids = d[\"input_ids\"].to(device)\n",
    "      attention_mask = d[\"attention_mask\"].to(device)\n",
    "      targets = d[\"targets\"].to(device)\n",
    "      outputs = model(\n",
    "        input_ids=input_ids,\n",
    "        attention_mask=attention_mask\n",
    "      )\n",
    "      _, preds = torch.max(outputs, dim=1)\n",
    "      loss = loss_fn(outputs, targets)\n",
    "      correct_predictions += torch.sum(preds == targets)\n",
    "      losses.append(loss.item())\n",
    "  return correct_predictions.double() / n_examples, np.mean(losses)"
   ]
  },
  {
   "cell_type": "code",
   "execution_count": 44,
   "metadata": {
    "scrolled": true
   },
   "outputs": [
    {
     "name": "stdout",
     "output_type": "stream",
     "text": [
      "Epoch 1/10\n",
      "----------\n"
     ]
    },
    {
     "ename": "RuntimeError",
     "evalue": "CUDA out of memory. Tried to allocate 30.00 MiB (GPU 0; 3.00 GiB total capacity; 1.97 GiB already allocated; 21.55 MiB free; 2.16 GiB reserved in total by PyTorch)",
     "output_type": "error",
     "traceback": [
      "\u001b[1;31m---------------------------------------------------------------------------\u001b[0m",
      "\u001b[1;31mRuntimeError\u001b[0m                              Traceback (most recent call last)",
      "\u001b[1;32m<ipython-input-44-c83ad3fd027c>\u001b[0m in \u001b[0;36m<module>\u001b[1;34m\u001b[0m\n\u001b[0;32m     11\u001b[0m     \u001b[0mdevice\u001b[0m\u001b[1;33m,\u001b[0m\u001b[1;33m\u001b[0m\u001b[1;33m\u001b[0m\u001b[0m\n\u001b[0;32m     12\u001b[0m     \u001b[0mscheduler\u001b[0m\u001b[1;33m,\u001b[0m\u001b[1;33m\u001b[0m\u001b[1;33m\u001b[0m\u001b[0m\n\u001b[1;32m---> 13\u001b[1;33m     \u001b[0mlen\u001b[0m\u001b[1;33m(\u001b[0m\u001b[0mdf_train\u001b[0m\u001b[1;33m)\u001b[0m\u001b[1;33m\u001b[0m\u001b[1;33m\u001b[0m\u001b[0m\n\u001b[0m\u001b[0;32m     14\u001b[0m   )\n\u001b[0;32m     15\u001b[0m   \u001b[0mprint\u001b[0m\u001b[1;33m(\u001b[0m\u001b[1;34mf'Train loss {train_loss} accuracy {train_acc}'\u001b[0m\u001b[1;33m)\u001b[0m\u001b[1;33m\u001b[0m\u001b[1;33m\u001b[0m\u001b[0m\n",
      "\u001b[1;32m<ipython-input-40-aaa2ed61cb0d>\u001b[0m in \u001b[0;36mtrain_epoch\u001b[1;34m(model, data_loader, loss_fn, optimizer, device, scheduler, n_examples)\u001b[0m\n\u001b[0;32m     17\u001b[0m     outputs = model(\n\u001b[0;32m     18\u001b[0m       \u001b[0minput_ids\u001b[0m\u001b[1;33m=\u001b[0m\u001b[0minput_ids\u001b[0m\u001b[1;33m,\u001b[0m\u001b[1;33m\u001b[0m\u001b[1;33m\u001b[0m\u001b[0m\n\u001b[1;32m---> 19\u001b[1;33m       \u001b[0mattention_mask\u001b[0m\u001b[1;33m=\u001b[0m\u001b[0mattention_mask\u001b[0m\u001b[1;33m\u001b[0m\u001b[1;33m\u001b[0m\u001b[0m\n\u001b[0m\u001b[0;32m     20\u001b[0m     )\n\u001b[0;32m     21\u001b[0m     \u001b[0m_\u001b[0m\u001b[1;33m,\u001b[0m \u001b[0mpreds\u001b[0m \u001b[1;33m=\u001b[0m \u001b[0mtorch\u001b[0m\u001b[1;33m.\u001b[0m\u001b[0mmax\u001b[0m\u001b[1;33m(\u001b[0m\u001b[0moutputs\u001b[0m\u001b[1;33m,\u001b[0m \u001b[0mdim\u001b[0m\u001b[1;33m=\u001b[0m\u001b[1;36m1\u001b[0m\u001b[1;33m)\u001b[0m\u001b[1;33m\u001b[0m\u001b[1;33m\u001b[0m\u001b[0m\n",
      "\u001b[1;32mc:\\users\\svetislavsimic\\anaconda3\\envs\\9gag-bert\\lib\\site-packages\\torch\\nn\\modules\\module.py\u001b[0m in \u001b[0;36m__call__\u001b[1;34m(self, *input, **kwargs)\u001b[0m\n\u001b[0;32m    548\u001b[0m             \u001b[0mresult\u001b[0m \u001b[1;33m=\u001b[0m \u001b[0mself\u001b[0m\u001b[1;33m.\u001b[0m\u001b[0m_slow_forward\u001b[0m\u001b[1;33m(\u001b[0m\u001b[1;33m*\u001b[0m\u001b[0minput\u001b[0m\u001b[1;33m,\u001b[0m \u001b[1;33m**\u001b[0m\u001b[0mkwargs\u001b[0m\u001b[1;33m)\u001b[0m\u001b[1;33m\u001b[0m\u001b[1;33m\u001b[0m\u001b[0m\n\u001b[0;32m    549\u001b[0m         \u001b[1;32melse\u001b[0m\u001b[1;33m:\u001b[0m\u001b[1;33m\u001b[0m\u001b[1;33m\u001b[0m\u001b[0m\n\u001b[1;32m--> 550\u001b[1;33m             \u001b[0mresult\u001b[0m \u001b[1;33m=\u001b[0m \u001b[0mself\u001b[0m\u001b[1;33m.\u001b[0m\u001b[0mforward\u001b[0m\u001b[1;33m(\u001b[0m\u001b[1;33m*\u001b[0m\u001b[0minput\u001b[0m\u001b[1;33m,\u001b[0m \u001b[1;33m**\u001b[0m\u001b[0mkwargs\u001b[0m\u001b[1;33m)\u001b[0m\u001b[1;33m\u001b[0m\u001b[1;33m\u001b[0m\u001b[0m\n\u001b[0m\u001b[0;32m    551\u001b[0m         \u001b[1;32mfor\u001b[0m \u001b[0mhook\u001b[0m \u001b[1;32min\u001b[0m \u001b[0mself\u001b[0m\u001b[1;33m.\u001b[0m\u001b[0m_forward_hooks\u001b[0m\u001b[1;33m.\u001b[0m\u001b[0mvalues\u001b[0m\u001b[1;33m(\u001b[0m\u001b[1;33m)\u001b[0m\u001b[1;33m:\u001b[0m\u001b[1;33m\u001b[0m\u001b[1;33m\u001b[0m\u001b[0m\n\u001b[0;32m    552\u001b[0m             \u001b[0mhook_result\u001b[0m \u001b[1;33m=\u001b[0m \u001b[0mhook\u001b[0m\u001b[1;33m(\u001b[0m\u001b[0mself\u001b[0m\u001b[1;33m,\u001b[0m \u001b[0minput\u001b[0m\u001b[1;33m,\u001b[0m \u001b[0mresult\u001b[0m\u001b[1;33m)\u001b[0m\u001b[1;33m\u001b[0m\u001b[1;33m\u001b[0m\u001b[0m\n",
      "\u001b[1;32m<ipython-input-5-0737b8951796>\u001b[0m in \u001b[0;36mforward\u001b[1;34m(self, input_ids, attention_mask)\u001b[0m\n\u001b[0;32m      8\u001b[0m     _, pooled_output = self.bert(\n\u001b[0;32m      9\u001b[0m       \u001b[0minput_ids\u001b[0m\u001b[1;33m=\u001b[0m\u001b[0minput_ids\u001b[0m\u001b[1;33m,\u001b[0m\u001b[1;33m\u001b[0m\u001b[1;33m\u001b[0m\u001b[0m\n\u001b[1;32m---> 10\u001b[1;33m       \u001b[0mattention_mask\u001b[0m\u001b[1;33m=\u001b[0m\u001b[0mattention_mask\u001b[0m\u001b[1;33m\u001b[0m\u001b[1;33m\u001b[0m\u001b[0m\n\u001b[0m\u001b[0;32m     11\u001b[0m     )\n\u001b[0;32m     12\u001b[0m     \u001b[0moutput\u001b[0m \u001b[1;33m=\u001b[0m \u001b[0mself\u001b[0m\u001b[1;33m.\u001b[0m\u001b[0mdrop\u001b[0m\u001b[1;33m(\u001b[0m\u001b[0mpooled_output\u001b[0m\u001b[1;33m)\u001b[0m\u001b[1;33m\u001b[0m\u001b[1;33m\u001b[0m\u001b[0m\n",
      "\u001b[1;32mc:\\users\\svetislavsimic\\anaconda3\\envs\\9gag-bert\\lib\\site-packages\\torch\\nn\\modules\\module.py\u001b[0m in \u001b[0;36m__call__\u001b[1;34m(self, *input, **kwargs)\u001b[0m\n\u001b[0;32m    548\u001b[0m             \u001b[0mresult\u001b[0m \u001b[1;33m=\u001b[0m \u001b[0mself\u001b[0m\u001b[1;33m.\u001b[0m\u001b[0m_slow_forward\u001b[0m\u001b[1;33m(\u001b[0m\u001b[1;33m*\u001b[0m\u001b[0minput\u001b[0m\u001b[1;33m,\u001b[0m \u001b[1;33m**\u001b[0m\u001b[0mkwargs\u001b[0m\u001b[1;33m)\u001b[0m\u001b[1;33m\u001b[0m\u001b[1;33m\u001b[0m\u001b[0m\n\u001b[0;32m    549\u001b[0m         \u001b[1;32melse\u001b[0m\u001b[1;33m:\u001b[0m\u001b[1;33m\u001b[0m\u001b[1;33m\u001b[0m\u001b[0m\n\u001b[1;32m--> 550\u001b[1;33m             \u001b[0mresult\u001b[0m \u001b[1;33m=\u001b[0m \u001b[0mself\u001b[0m\u001b[1;33m.\u001b[0m\u001b[0mforward\u001b[0m\u001b[1;33m(\u001b[0m\u001b[1;33m*\u001b[0m\u001b[0minput\u001b[0m\u001b[1;33m,\u001b[0m \u001b[1;33m**\u001b[0m\u001b[0mkwargs\u001b[0m\u001b[1;33m)\u001b[0m\u001b[1;33m\u001b[0m\u001b[1;33m\u001b[0m\u001b[0m\n\u001b[0m\u001b[0;32m    551\u001b[0m         \u001b[1;32mfor\u001b[0m \u001b[0mhook\u001b[0m \u001b[1;32min\u001b[0m \u001b[0mself\u001b[0m\u001b[1;33m.\u001b[0m\u001b[0m_forward_hooks\u001b[0m\u001b[1;33m.\u001b[0m\u001b[0mvalues\u001b[0m\u001b[1;33m(\u001b[0m\u001b[1;33m)\u001b[0m\u001b[1;33m:\u001b[0m\u001b[1;33m\u001b[0m\u001b[1;33m\u001b[0m\u001b[0m\n\u001b[0;32m    552\u001b[0m             \u001b[0mhook_result\u001b[0m \u001b[1;33m=\u001b[0m \u001b[0mhook\u001b[0m\u001b[1;33m(\u001b[0m\u001b[0mself\u001b[0m\u001b[1;33m,\u001b[0m \u001b[0minput\u001b[0m\u001b[1;33m,\u001b[0m \u001b[0mresult\u001b[0m\u001b[1;33m)\u001b[0m\u001b[1;33m\u001b[0m\u001b[1;33m\u001b[0m\u001b[0m\n",
      "\u001b[1;32mc:\\users\\svetislavsimic\\anaconda3\\envs\\9gag-bert\\lib\\site-packages\\transformers\\modeling_bert.py\u001b[0m in \u001b[0;36mforward\u001b[1;34m(self, input_ids, attention_mask, token_type_ids, position_ids, head_mask, inputs_embeds, encoder_hidden_states, encoder_attention_mask)\u001b[0m\n\u001b[0;32m    788\u001b[0m             \u001b[0mhead_mask\u001b[0m\u001b[1;33m=\u001b[0m\u001b[0mhead_mask\u001b[0m\u001b[1;33m,\u001b[0m\u001b[1;33m\u001b[0m\u001b[1;33m\u001b[0m\u001b[0m\n\u001b[0;32m    789\u001b[0m             \u001b[0mencoder_hidden_states\u001b[0m\u001b[1;33m=\u001b[0m\u001b[0mencoder_hidden_states\u001b[0m\u001b[1;33m,\u001b[0m\u001b[1;33m\u001b[0m\u001b[1;33m\u001b[0m\u001b[0m\n\u001b[1;32m--> 790\u001b[1;33m             \u001b[0mencoder_attention_mask\u001b[0m\u001b[1;33m=\u001b[0m\u001b[0mencoder_extended_attention_mask\u001b[0m\u001b[1;33m,\u001b[0m\u001b[1;33m\u001b[0m\u001b[1;33m\u001b[0m\u001b[0m\n\u001b[0m\u001b[0;32m    791\u001b[0m         )\n\u001b[0;32m    792\u001b[0m         \u001b[0msequence_output\u001b[0m \u001b[1;33m=\u001b[0m \u001b[0mencoder_outputs\u001b[0m\u001b[1;33m[\u001b[0m\u001b[1;36m0\u001b[0m\u001b[1;33m]\u001b[0m\u001b[1;33m\u001b[0m\u001b[1;33m\u001b[0m\u001b[0m\n",
      "\u001b[1;32mc:\\users\\svetislavsimic\\anaconda3\\envs\\9gag-bert\\lib\\site-packages\\torch\\nn\\modules\\module.py\u001b[0m in \u001b[0;36m__call__\u001b[1;34m(self, *input, **kwargs)\u001b[0m\n\u001b[0;32m    548\u001b[0m             \u001b[0mresult\u001b[0m \u001b[1;33m=\u001b[0m \u001b[0mself\u001b[0m\u001b[1;33m.\u001b[0m\u001b[0m_slow_forward\u001b[0m\u001b[1;33m(\u001b[0m\u001b[1;33m*\u001b[0m\u001b[0minput\u001b[0m\u001b[1;33m,\u001b[0m \u001b[1;33m**\u001b[0m\u001b[0mkwargs\u001b[0m\u001b[1;33m)\u001b[0m\u001b[1;33m\u001b[0m\u001b[1;33m\u001b[0m\u001b[0m\n\u001b[0;32m    549\u001b[0m         \u001b[1;32melse\u001b[0m\u001b[1;33m:\u001b[0m\u001b[1;33m\u001b[0m\u001b[1;33m\u001b[0m\u001b[0m\n\u001b[1;32m--> 550\u001b[1;33m             \u001b[0mresult\u001b[0m \u001b[1;33m=\u001b[0m \u001b[0mself\u001b[0m\u001b[1;33m.\u001b[0m\u001b[0mforward\u001b[0m\u001b[1;33m(\u001b[0m\u001b[1;33m*\u001b[0m\u001b[0minput\u001b[0m\u001b[1;33m,\u001b[0m \u001b[1;33m**\u001b[0m\u001b[0mkwargs\u001b[0m\u001b[1;33m)\u001b[0m\u001b[1;33m\u001b[0m\u001b[1;33m\u001b[0m\u001b[0m\n\u001b[0m\u001b[0;32m    551\u001b[0m         \u001b[1;32mfor\u001b[0m \u001b[0mhook\u001b[0m \u001b[1;32min\u001b[0m \u001b[0mself\u001b[0m\u001b[1;33m.\u001b[0m\u001b[0m_forward_hooks\u001b[0m\u001b[1;33m.\u001b[0m\u001b[0mvalues\u001b[0m\u001b[1;33m(\u001b[0m\u001b[1;33m)\u001b[0m\u001b[1;33m:\u001b[0m\u001b[1;33m\u001b[0m\u001b[1;33m\u001b[0m\u001b[0m\n\u001b[0;32m    552\u001b[0m             \u001b[0mhook_result\u001b[0m \u001b[1;33m=\u001b[0m \u001b[0mhook\u001b[0m\u001b[1;33m(\u001b[0m\u001b[0mself\u001b[0m\u001b[1;33m,\u001b[0m \u001b[0minput\u001b[0m\u001b[1;33m,\u001b[0m \u001b[0mresult\u001b[0m\u001b[1;33m)\u001b[0m\u001b[1;33m\u001b[0m\u001b[1;33m\u001b[0m\u001b[0m\n",
      "\u001b[1;32mc:\\users\\svetislavsimic\\anaconda3\\envs\\9gag-bert\\lib\\site-packages\\transformers\\modeling_bert.py\u001b[0m in \u001b[0;36mforward\u001b[1;34m(self, hidden_states, attention_mask, head_mask, encoder_hidden_states, encoder_attention_mask)\u001b[0m\n\u001b[0;32m    405\u001b[0m \u001b[1;33m\u001b[0m\u001b[0m\n\u001b[0;32m    406\u001b[0m             layer_outputs = layer_module(\n\u001b[1;32m--> 407\u001b[1;33m                 \u001b[0mhidden_states\u001b[0m\u001b[1;33m,\u001b[0m \u001b[0mattention_mask\u001b[0m\u001b[1;33m,\u001b[0m \u001b[0mhead_mask\u001b[0m\u001b[1;33m[\u001b[0m\u001b[0mi\u001b[0m\u001b[1;33m]\u001b[0m\u001b[1;33m,\u001b[0m \u001b[0mencoder_hidden_states\u001b[0m\u001b[1;33m,\u001b[0m \u001b[0mencoder_attention_mask\u001b[0m\u001b[1;33m\u001b[0m\u001b[1;33m\u001b[0m\u001b[0m\n\u001b[0m\u001b[0;32m    408\u001b[0m             )\n\u001b[0;32m    409\u001b[0m             \u001b[0mhidden_states\u001b[0m \u001b[1;33m=\u001b[0m \u001b[0mlayer_outputs\u001b[0m\u001b[1;33m[\u001b[0m\u001b[1;36m0\u001b[0m\u001b[1;33m]\u001b[0m\u001b[1;33m\u001b[0m\u001b[1;33m\u001b[0m\u001b[0m\n",
      "\u001b[1;32mc:\\users\\svetislavsimic\\anaconda3\\envs\\9gag-bert\\lib\\site-packages\\torch\\nn\\modules\\module.py\u001b[0m in \u001b[0;36m__call__\u001b[1;34m(self, *input, **kwargs)\u001b[0m\n\u001b[0;32m    548\u001b[0m             \u001b[0mresult\u001b[0m \u001b[1;33m=\u001b[0m \u001b[0mself\u001b[0m\u001b[1;33m.\u001b[0m\u001b[0m_slow_forward\u001b[0m\u001b[1;33m(\u001b[0m\u001b[1;33m*\u001b[0m\u001b[0minput\u001b[0m\u001b[1;33m,\u001b[0m \u001b[1;33m**\u001b[0m\u001b[0mkwargs\u001b[0m\u001b[1;33m)\u001b[0m\u001b[1;33m\u001b[0m\u001b[1;33m\u001b[0m\u001b[0m\n\u001b[0;32m    549\u001b[0m         \u001b[1;32melse\u001b[0m\u001b[1;33m:\u001b[0m\u001b[1;33m\u001b[0m\u001b[1;33m\u001b[0m\u001b[0m\n\u001b[1;32m--> 550\u001b[1;33m             \u001b[0mresult\u001b[0m \u001b[1;33m=\u001b[0m \u001b[0mself\u001b[0m\u001b[1;33m.\u001b[0m\u001b[0mforward\u001b[0m\u001b[1;33m(\u001b[0m\u001b[1;33m*\u001b[0m\u001b[0minput\u001b[0m\u001b[1;33m,\u001b[0m \u001b[1;33m**\u001b[0m\u001b[0mkwargs\u001b[0m\u001b[1;33m)\u001b[0m\u001b[1;33m\u001b[0m\u001b[1;33m\u001b[0m\u001b[0m\n\u001b[0m\u001b[0;32m    551\u001b[0m         \u001b[1;32mfor\u001b[0m \u001b[0mhook\u001b[0m \u001b[1;32min\u001b[0m \u001b[0mself\u001b[0m\u001b[1;33m.\u001b[0m\u001b[0m_forward_hooks\u001b[0m\u001b[1;33m.\u001b[0m\u001b[0mvalues\u001b[0m\u001b[1;33m(\u001b[0m\u001b[1;33m)\u001b[0m\u001b[1;33m:\u001b[0m\u001b[1;33m\u001b[0m\u001b[1;33m\u001b[0m\u001b[0m\n\u001b[0;32m    552\u001b[0m             \u001b[0mhook_result\u001b[0m \u001b[1;33m=\u001b[0m \u001b[0mhook\u001b[0m\u001b[1;33m(\u001b[0m\u001b[0mself\u001b[0m\u001b[1;33m,\u001b[0m \u001b[0minput\u001b[0m\u001b[1;33m,\u001b[0m \u001b[0mresult\u001b[0m\u001b[1;33m)\u001b[0m\u001b[1;33m\u001b[0m\u001b[1;33m\u001b[0m\u001b[0m\n",
      "\u001b[1;32mc:\\users\\svetislavsimic\\anaconda3\\envs\\9gag-bert\\lib\\site-packages\\transformers\\modeling_bert.py\u001b[0m in \u001b[0;36mforward\u001b[1;34m(self, hidden_states, attention_mask, head_mask, encoder_hidden_states, encoder_attention_mask)\u001b[0m\n\u001b[0;32m    377\u001b[0m             \u001b[0moutputs\u001b[0m \u001b[1;33m=\u001b[0m \u001b[0moutputs\u001b[0m \u001b[1;33m+\u001b[0m \u001b[0mcross_attention_outputs\u001b[0m\u001b[1;33m[\u001b[0m\u001b[1;36m1\u001b[0m\u001b[1;33m:\u001b[0m\u001b[1;33m]\u001b[0m  \u001b[1;31m# add cross attentions if we output attention weights\u001b[0m\u001b[1;33m\u001b[0m\u001b[1;33m\u001b[0m\u001b[0m\n\u001b[0;32m    378\u001b[0m \u001b[1;33m\u001b[0m\u001b[0m\n\u001b[1;32m--> 379\u001b[1;33m         \u001b[0mintermediate_output\u001b[0m \u001b[1;33m=\u001b[0m \u001b[0mself\u001b[0m\u001b[1;33m.\u001b[0m\u001b[0mintermediate\u001b[0m\u001b[1;33m(\u001b[0m\u001b[0mattention_output\u001b[0m\u001b[1;33m)\u001b[0m\u001b[1;33m\u001b[0m\u001b[1;33m\u001b[0m\u001b[0m\n\u001b[0m\u001b[0;32m    380\u001b[0m         \u001b[0mlayer_output\u001b[0m \u001b[1;33m=\u001b[0m \u001b[0mself\u001b[0m\u001b[1;33m.\u001b[0m\u001b[0moutput\u001b[0m\u001b[1;33m(\u001b[0m\u001b[0mintermediate_output\u001b[0m\u001b[1;33m,\u001b[0m \u001b[0mattention_output\u001b[0m\u001b[1;33m)\u001b[0m\u001b[1;33m\u001b[0m\u001b[1;33m\u001b[0m\u001b[0m\n\u001b[0;32m    381\u001b[0m         \u001b[0moutputs\u001b[0m \u001b[1;33m=\u001b[0m \u001b[1;33m(\u001b[0m\u001b[0mlayer_output\u001b[0m\u001b[1;33m,\u001b[0m\u001b[1;33m)\u001b[0m \u001b[1;33m+\u001b[0m \u001b[0moutputs\u001b[0m\u001b[1;33m\u001b[0m\u001b[1;33m\u001b[0m\u001b[0m\n",
      "\u001b[1;32mc:\\users\\svetislavsimic\\anaconda3\\envs\\9gag-bert\\lib\\site-packages\\torch\\nn\\modules\\module.py\u001b[0m in \u001b[0;36m__call__\u001b[1;34m(self, *input, **kwargs)\u001b[0m\n\u001b[0;32m    548\u001b[0m             \u001b[0mresult\u001b[0m \u001b[1;33m=\u001b[0m \u001b[0mself\u001b[0m\u001b[1;33m.\u001b[0m\u001b[0m_slow_forward\u001b[0m\u001b[1;33m(\u001b[0m\u001b[1;33m*\u001b[0m\u001b[0minput\u001b[0m\u001b[1;33m,\u001b[0m \u001b[1;33m**\u001b[0m\u001b[0mkwargs\u001b[0m\u001b[1;33m)\u001b[0m\u001b[1;33m\u001b[0m\u001b[1;33m\u001b[0m\u001b[0m\n\u001b[0;32m    549\u001b[0m         \u001b[1;32melse\u001b[0m\u001b[1;33m:\u001b[0m\u001b[1;33m\u001b[0m\u001b[1;33m\u001b[0m\u001b[0m\n\u001b[1;32m--> 550\u001b[1;33m             \u001b[0mresult\u001b[0m \u001b[1;33m=\u001b[0m \u001b[0mself\u001b[0m\u001b[1;33m.\u001b[0m\u001b[0mforward\u001b[0m\u001b[1;33m(\u001b[0m\u001b[1;33m*\u001b[0m\u001b[0minput\u001b[0m\u001b[1;33m,\u001b[0m \u001b[1;33m**\u001b[0m\u001b[0mkwargs\u001b[0m\u001b[1;33m)\u001b[0m\u001b[1;33m\u001b[0m\u001b[1;33m\u001b[0m\u001b[0m\n\u001b[0m\u001b[0;32m    551\u001b[0m         \u001b[1;32mfor\u001b[0m \u001b[0mhook\u001b[0m \u001b[1;32min\u001b[0m \u001b[0mself\u001b[0m\u001b[1;33m.\u001b[0m\u001b[0m_forward_hooks\u001b[0m\u001b[1;33m.\u001b[0m\u001b[0mvalues\u001b[0m\u001b[1;33m(\u001b[0m\u001b[1;33m)\u001b[0m\u001b[1;33m:\u001b[0m\u001b[1;33m\u001b[0m\u001b[1;33m\u001b[0m\u001b[0m\n\u001b[0;32m    552\u001b[0m             \u001b[0mhook_result\u001b[0m \u001b[1;33m=\u001b[0m \u001b[0mhook\u001b[0m\u001b[1;33m(\u001b[0m\u001b[0mself\u001b[0m\u001b[1;33m,\u001b[0m \u001b[0minput\u001b[0m\u001b[1;33m,\u001b[0m \u001b[0mresult\u001b[0m\u001b[1;33m)\u001b[0m\u001b[1;33m\u001b[0m\u001b[1;33m\u001b[0m\u001b[0m\n",
      "\u001b[1;32mc:\\users\\svetislavsimic\\anaconda3\\envs\\9gag-bert\\lib\\site-packages\\transformers\\modeling_bert.py\u001b[0m in \u001b[0;36mforward\u001b[1;34m(self, hidden_states)\u001b[0m\n\u001b[0;32m    329\u001b[0m \u001b[1;33m\u001b[0m\u001b[0m\n\u001b[0;32m    330\u001b[0m     \u001b[1;32mdef\u001b[0m \u001b[0mforward\u001b[0m\u001b[1;33m(\u001b[0m\u001b[0mself\u001b[0m\u001b[1;33m,\u001b[0m \u001b[0mhidden_states\u001b[0m\u001b[1;33m)\u001b[0m\u001b[1;33m:\u001b[0m\u001b[1;33m\u001b[0m\u001b[1;33m\u001b[0m\u001b[0m\n\u001b[1;32m--> 331\u001b[1;33m         \u001b[0mhidden_states\u001b[0m \u001b[1;33m=\u001b[0m \u001b[0mself\u001b[0m\u001b[1;33m.\u001b[0m\u001b[0mdense\u001b[0m\u001b[1;33m(\u001b[0m\u001b[0mhidden_states\u001b[0m\u001b[1;33m)\u001b[0m\u001b[1;33m\u001b[0m\u001b[1;33m\u001b[0m\u001b[0m\n\u001b[0m\u001b[0;32m    332\u001b[0m         \u001b[0mhidden_states\u001b[0m \u001b[1;33m=\u001b[0m \u001b[0mself\u001b[0m\u001b[1;33m.\u001b[0m\u001b[0mintermediate_act_fn\u001b[0m\u001b[1;33m(\u001b[0m\u001b[0mhidden_states\u001b[0m\u001b[1;33m)\u001b[0m\u001b[1;33m\u001b[0m\u001b[1;33m\u001b[0m\u001b[0m\n\u001b[0;32m    333\u001b[0m         \u001b[1;32mreturn\u001b[0m \u001b[0mhidden_states\u001b[0m\u001b[1;33m\u001b[0m\u001b[1;33m\u001b[0m\u001b[0m\n",
      "\u001b[1;32mc:\\users\\svetislavsimic\\anaconda3\\envs\\9gag-bert\\lib\\site-packages\\torch\\nn\\modules\\module.py\u001b[0m in \u001b[0;36m__call__\u001b[1;34m(self, *input, **kwargs)\u001b[0m\n\u001b[0;32m    548\u001b[0m             \u001b[0mresult\u001b[0m \u001b[1;33m=\u001b[0m \u001b[0mself\u001b[0m\u001b[1;33m.\u001b[0m\u001b[0m_slow_forward\u001b[0m\u001b[1;33m(\u001b[0m\u001b[1;33m*\u001b[0m\u001b[0minput\u001b[0m\u001b[1;33m,\u001b[0m \u001b[1;33m**\u001b[0m\u001b[0mkwargs\u001b[0m\u001b[1;33m)\u001b[0m\u001b[1;33m\u001b[0m\u001b[1;33m\u001b[0m\u001b[0m\n\u001b[0;32m    549\u001b[0m         \u001b[1;32melse\u001b[0m\u001b[1;33m:\u001b[0m\u001b[1;33m\u001b[0m\u001b[1;33m\u001b[0m\u001b[0m\n\u001b[1;32m--> 550\u001b[1;33m             \u001b[0mresult\u001b[0m \u001b[1;33m=\u001b[0m \u001b[0mself\u001b[0m\u001b[1;33m.\u001b[0m\u001b[0mforward\u001b[0m\u001b[1;33m(\u001b[0m\u001b[1;33m*\u001b[0m\u001b[0minput\u001b[0m\u001b[1;33m,\u001b[0m \u001b[1;33m**\u001b[0m\u001b[0mkwargs\u001b[0m\u001b[1;33m)\u001b[0m\u001b[1;33m\u001b[0m\u001b[1;33m\u001b[0m\u001b[0m\n\u001b[0m\u001b[0;32m    551\u001b[0m         \u001b[1;32mfor\u001b[0m \u001b[0mhook\u001b[0m \u001b[1;32min\u001b[0m \u001b[0mself\u001b[0m\u001b[1;33m.\u001b[0m\u001b[0m_forward_hooks\u001b[0m\u001b[1;33m.\u001b[0m\u001b[0mvalues\u001b[0m\u001b[1;33m(\u001b[0m\u001b[1;33m)\u001b[0m\u001b[1;33m:\u001b[0m\u001b[1;33m\u001b[0m\u001b[1;33m\u001b[0m\u001b[0m\n\u001b[0;32m    552\u001b[0m             \u001b[0mhook_result\u001b[0m \u001b[1;33m=\u001b[0m \u001b[0mhook\u001b[0m\u001b[1;33m(\u001b[0m\u001b[0mself\u001b[0m\u001b[1;33m,\u001b[0m \u001b[0minput\u001b[0m\u001b[1;33m,\u001b[0m \u001b[0mresult\u001b[0m\u001b[1;33m)\u001b[0m\u001b[1;33m\u001b[0m\u001b[1;33m\u001b[0m\u001b[0m\n",
      "\u001b[1;32mc:\\users\\svetislavsimic\\anaconda3\\envs\\9gag-bert\\lib\\site-packages\\torch\\nn\\modules\\linear.py\u001b[0m in \u001b[0;36mforward\u001b[1;34m(self, input)\u001b[0m\n\u001b[0;32m     85\u001b[0m \u001b[1;33m\u001b[0m\u001b[0m\n\u001b[0;32m     86\u001b[0m     \u001b[1;32mdef\u001b[0m \u001b[0mforward\u001b[0m\u001b[1;33m(\u001b[0m\u001b[0mself\u001b[0m\u001b[1;33m,\u001b[0m \u001b[0minput\u001b[0m\u001b[1;33m)\u001b[0m\u001b[1;33m:\u001b[0m\u001b[1;33m\u001b[0m\u001b[1;33m\u001b[0m\u001b[0m\n\u001b[1;32m---> 87\u001b[1;33m         \u001b[1;32mreturn\u001b[0m \u001b[0mF\u001b[0m\u001b[1;33m.\u001b[0m\u001b[0mlinear\u001b[0m\u001b[1;33m(\u001b[0m\u001b[0minput\u001b[0m\u001b[1;33m,\u001b[0m \u001b[0mself\u001b[0m\u001b[1;33m.\u001b[0m\u001b[0mweight\u001b[0m\u001b[1;33m,\u001b[0m \u001b[0mself\u001b[0m\u001b[1;33m.\u001b[0m\u001b[0mbias\u001b[0m\u001b[1;33m)\u001b[0m\u001b[1;33m\u001b[0m\u001b[1;33m\u001b[0m\u001b[0m\n\u001b[0m\u001b[0;32m     88\u001b[0m \u001b[1;33m\u001b[0m\u001b[0m\n\u001b[0;32m     89\u001b[0m     \u001b[1;32mdef\u001b[0m \u001b[0mextra_repr\u001b[0m\u001b[1;33m(\u001b[0m\u001b[0mself\u001b[0m\u001b[1;33m)\u001b[0m\u001b[1;33m:\u001b[0m\u001b[1;33m\u001b[0m\u001b[1;33m\u001b[0m\u001b[0m\n",
      "\u001b[1;32mc:\\users\\svetislavsimic\\anaconda3\\envs\\9gag-bert\\lib\\site-packages\\torch\\nn\\functional.py\u001b[0m in \u001b[0;36mlinear\u001b[1;34m(input, weight, bias)\u001b[0m\n\u001b[0;32m   1610\u001b[0m         \u001b[0mret\u001b[0m \u001b[1;33m=\u001b[0m \u001b[0mtorch\u001b[0m\u001b[1;33m.\u001b[0m\u001b[0maddmm\u001b[0m\u001b[1;33m(\u001b[0m\u001b[0mbias\u001b[0m\u001b[1;33m,\u001b[0m \u001b[0minput\u001b[0m\u001b[1;33m,\u001b[0m \u001b[0mweight\u001b[0m\u001b[1;33m.\u001b[0m\u001b[0mt\u001b[0m\u001b[1;33m(\u001b[0m\u001b[1;33m)\u001b[0m\u001b[1;33m)\u001b[0m\u001b[1;33m\u001b[0m\u001b[1;33m\u001b[0m\u001b[0m\n\u001b[0;32m   1611\u001b[0m     \u001b[1;32melse\u001b[0m\u001b[1;33m:\u001b[0m\u001b[1;33m\u001b[0m\u001b[1;33m\u001b[0m\u001b[0m\n\u001b[1;32m-> 1612\u001b[1;33m         \u001b[0moutput\u001b[0m \u001b[1;33m=\u001b[0m \u001b[0minput\u001b[0m\u001b[1;33m.\u001b[0m\u001b[0mmatmul\u001b[0m\u001b[1;33m(\u001b[0m\u001b[0mweight\u001b[0m\u001b[1;33m.\u001b[0m\u001b[0mt\u001b[0m\u001b[1;33m(\u001b[0m\u001b[1;33m)\u001b[0m\u001b[1;33m)\u001b[0m\u001b[1;33m\u001b[0m\u001b[1;33m\u001b[0m\u001b[0m\n\u001b[0m\u001b[0;32m   1613\u001b[0m         \u001b[1;32mif\u001b[0m \u001b[0mbias\u001b[0m \u001b[1;32mis\u001b[0m \u001b[1;32mnot\u001b[0m \u001b[1;32mNone\u001b[0m\u001b[1;33m:\u001b[0m\u001b[1;33m\u001b[0m\u001b[1;33m\u001b[0m\u001b[0m\n\u001b[0;32m   1614\u001b[0m             \u001b[0moutput\u001b[0m \u001b[1;33m+=\u001b[0m \u001b[0mbias\u001b[0m\u001b[1;33m\u001b[0m\u001b[1;33m\u001b[0m\u001b[0m\n",
      "\u001b[1;31mRuntimeError\u001b[0m: CUDA out of memory. Tried to allocate 30.00 MiB (GPU 0; 3.00 GiB total capacity; 1.97 GiB already allocated; 21.55 MiB free; 2.16 GiB reserved in total by PyTorch)"
     ]
    }
   ],
   "source": [
    "history = defaultdict(list)\n",
    "best_accuracy = 0\n",
    "for epoch in range(EPOCHS):\n",
    "  print(f'Epoch {epoch + 1}/{EPOCHS}')\n",
    "  print('-' * 10)\n",
    "  train_acc, train_loss = train_epoch(\n",
    "    model,\n",
    "    train_data_loader,\n",
    "    loss_fn,\n",
    "    optimizer,\n",
    "    device,\n",
    "    scheduler,\n",
    "    len(df_train)\n",
    "  )\n",
    "  print(f'Train loss {train_loss} accuracy {train_acc}')\n",
    "  val_acc, val_loss = eval_model(\n",
    "    model,\n",
    "    val_data_loader,\n",
    "    loss_fn,\n",
    "    device,\n",
    "    len(df_val)\n",
    "  )\n",
    "  print(f'Val   loss {val_loss} accuracy {val_acc}')\n",
    "  print()\n",
    "  history['train_acc'].append(train_acc)\n",
    "  history['train_loss'].append(train_loss)\n",
    "  history['val_acc'].append(val_acc)\n",
    "  history['val_loss'].append(val_loss)\n",
    "  if val_acc > best_accuracy:\n",
    "    torch.save(model.state_dict(), 'best_model_state.bin')\n",
    "    best_accuracy = val_acc"
   ]
  },
  {
   "cell_type": "code",
   "execution_count": 45,
   "metadata": {},
   "outputs": [
    {
     "data": {
      "image/png": "[encoded data removed]",
      "text/plain": [
       "<Figure size 864x576 with 1 Axes>"
      ]
     },
     "metadata": {},
     "output_type": "display_data"
    }
   ],
   "source": [
    "plt.plot(history['train_acc'], label='train accuracy')\n",
    "plt.plot(history['val_acc'], label='validation accuracy')\n",
    "plt.title('Training history')\n",
    "plt.ylabel('Accuracy')\n",
    "plt.xlabel('Epoch')\n",
    "plt.legend()\n",
    "plt.ylim([0, 1]);"
   ]
  },
  {
   "cell_type": "markdown",
   "metadata": {},
   "source": [
    "### Download pretrained model"
   ]
  },
  {
   "cell_type": "code",
   "execution_count": 47,
   "metadata": {},
   "outputs": [
    {
     "name": "stderr",
     "output_type": "stream",
     "text": [
      "Downloading...\n",
      "From: https://drive.google.com/uc?id=1V8itWtowCYnb2Bc9KlK9SxGff9WwmogA\n",
      "To: C:\\Users\\SvetislavSimic\\Desktop\\9gag\\9gag-post-popularity-prediction\\notebooks\\best_model_state.bin\n",
      "\n",
      "0.00B [00:00, ?B/s]\n",
      "524kB [00:00, 1.04MB/s]\n",
      "1.05MB [00:00, 1.05MB/s]\n",
      "1.57MB [00:01, 1.06MB/s]\n",
      "2.10MB [00:01, 1.07MB/s]\n",
      "2.62MB [00:02, 1.07MB/s]\n",
      "3.15MB [00:02, 1.08MB/s]\n",
      "3.67MB [00:03, 1.08MB/s]\n",
      "4.19MB [00:03, 1.06MB/s]\n",
      "4.72MB [00:04, 973kB/s] \n",
      "5.24MB [00:05, 886kB/s]\n",
      "5.77MB [00:06, 795kB/s]\n",
      "6.29MB [00:06, 746kB/s]\n",
      "6.82MB [00:07, 782kB/s]\n",
      "7.34MB [00:08, 788kB/s]\n",
      "7.86MB [00:08, 799kB/s]\n",
      "8.39MB [00:09, 788kB/s]\n",
      "8.91MB [00:10, 776kB/s]\n",
      "9.44MB [00:10, 782kB/s]\n",
      "9.96MB [00:11, 780kB/s]\n",
      "10.5MB [00:12, 778kB/s]\n",
      "11.0MB [00:12, 772kB/s]\n",
      "11.5MB [00:13, 762kB/s]\n",
      "12.1MB [00:14, 750kB/s]\n",
      "12.6MB [00:15, 736kB/s]\n",
      "13.1MB [00:15, 716kB/s]\n",
      "13.6MB [00:16, 709kB/s]\n",
      "14.2MB [00:17, 654kB/s]\n",
      "14.7MB [00:18, 657kB/s]\n",
      "15.2MB [00:19, 649kB/s]\n",
      "15.7MB [00:19, 639kB/s]\n",
      "16.3MB [00:20, 640kB/s]\n",
      "16.8MB [00:21, 640kB/s]\n",
      "17.3MB [00:22, 631kB/s]\n",
      "17.8MB [00:23, 608kB/s]\n",
      "18.4MB [00:24, 554kB/s]\n",
      "18.9MB [00:26, 446kB/s]\n",
      "19.4MB [00:29, 314kB/s]\n",
      "19.9MB [00:30, 330kB/s]\n",
      "20.4MB [00:31, 381kB/s]\n",
      "21.0MB [00:31, 463kB/s]\n",
      "21.5MB [00:32, 560kB/s]\n",
      "22.0MB [00:33, 607kB/s]\n",
      "22.5MB [00:33, 613kB/s]\n",
      "23.1MB [00:34, 619kB/s]\n",
      "23.6MB [00:35, 644kB/s]\n",
      "24.1MB [00:36, 659kB/s]\n",
      "24.6MB [00:37, 669kB/s]\n",
      "25.2MB [00:37, 685kB/s]\n",
      "25.7MB [00:38, 669kB/s]\n",
      "26.2MB [00:39, 728kB/s]\n",
      "26.7MB [00:39, 720kB/s]\n",
      "27.3MB [00:40, 733kB/s]\n",
      "27.8MB [00:41, 744kB/s]\n",
      "28.3MB [00:41, 760kB/s]\n",
      "28.8MB [00:42, 758kB/s]\n",
      "29.4MB [00:43, 769kB/s]\n",
      "29.9MB [00:44, 709kB/s]\n",
      "30.4MB [00:44, 717kB/s]\n",
      "30.9MB [00:45, 746kB/s]\n",
      "31.5MB [00:45, 823kB/s]\n",
      "32.0MB [00:46, 855kB/s]\n",
      "32.5MB [00:47, 861kB/s]\n",
      "33.0MB [00:47, 856kB/s]\n",
      "33.6MB [00:48, 860kB/s]\n",
      "34.1MB [00:48, 893kB/s]\n",
      "34.6MB [00:49, 943kB/s]\n",
      "35.1MB [00:49, 978kB/s]\n",
      "35.7MB [00:50, 1.02MB/s]\n",
      "36.2MB [00:50, 1.03MB/s]\n",
      "36.7MB [00:51, 1.05MB/s]\n",
      "37.2MB [00:51, 1.06MB/s]\n",
      "37.7MB [00:52, 1.08MB/s]\n",
      "38.3MB [00:52, 1.07MB/s]\n",
      "38.8MB [00:53, 1.08MB/s]\n",
      "39.3MB [00:53, 1.08MB/s]\n",
      "39.8MB [00:54, 1.08MB/s]\n",
      "40.4MB [00:54, 1.08MB/s]\n",
      "40.9MB [00:55, 1.09MB/s]\n",
      "41.4MB [00:55, 1.08MB/s]\n",
      "41.9MB [00:56, 1.09MB/s]\n",
      "42.5MB [00:56, 1.08MB/s]\n",
      "43.0MB [00:57, 1.09MB/s]\n",
      "43.5MB [00:57, 966kB/s] \n",
      "44.0MB [00:58, 1.00MB/s]\n",
      "44.6MB [00:58, 1.02MB/s]\n",
      "45.1MB [00:59, 1.04MB/s]\n",
      "45.6MB [00:59, 1.05MB/s]\n",
      "46.1MB [01:00, 1.07MB/s]\n",
      "46.7MB [01:00, 1.07MB/s]\n",
      "47.2MB [01:01, 1.08MB/s]\n",
      "47.7MB [01:01, 1.07MB/s]\n",
      "48.2MB [01:02, 1.09MB/s]\n",
      "48.8MB [01:02, 1.08MB/s]\n",
      "49.3MB [01:03, 1.09MB/s]\n",
      "49.8MB [01:03, 1.08MB/s]\n",
      "50.3MB [01:04, 1.09MB/s]\n",
      "50.9MB [01:04, 1.09MB/s]\n",
      "51.4MB [01:04, 1.09MB/s]\n",
      "51.9MB [01:05, 1.09MB/s]\n",
      "52.4MB [01:05, 1.09MB/s]\n",
      "53.0MB [01:06, 1.09MB/s]\n",
      "53.5MB [01:06, 1.08MB/s]\n",
      "54.0MB [01:07, 1.08MB/s]\n",
      "54.5MB [01:08, 970kB/s] \n",
      "55.1MB [01:08, 998kB/s]\n",
      "55.6MB [01:09, 1.02MB/s]\n",
      "56.1MB [01:09, 1.04MB/s]\n",
      "56.6MB [01:10, 1.05MB/s]\n",
      "57.1MB [01:10, 1.06MB/s]\n",
      "57.7MB [01:10, 1.08MB/s]\n",
      "58.2MB [01:11, 1.07MB/s]\n",
      "58.7MB [01:11, 1.08MB/s]\n",
      "59.2MB [01:12, 1.07MB/s]\n",
      "59.8MB [01:12, 1.05MB/s]\n",
      "60.3MB [01:13, 1.03MB/s]\n",
      "60.8MB [01:14, 1.03MB/s]\n",
      "61.3MB [01:14, 1.04MB/s]\n",
      "61.9MB [01:14, 1.05MB/s]\n",
      "62.4MB [01:15, 1.06MB/s]\n",
      "62.9MB [01:15, 1.07MB/s]\n",
      "63.4MB [01:16, 1.04MB/s]\n",
      "64.0MB [01:16, 1.05MB/s]\n",
      "64.5MB [01:17, 970kB/s] \n",
      "65.0MB [01:18, 843kB/s]\n",
      "65.5MB [01:18, 904kB/s]\n",
      "66.1MB [01:19, 953kB/s]\n",
      "66.6MB [01:19, 988kB/s]\n",
      "67.1MB [01:20, 1.02MB/s]\n",
      "67.6MB [01:20, 1.04MB/s]\n",
      "68.2MB [01:21, 1.05MB/s]\n",
      "68.7MB [01:21, 1.06MB/s]\n",
      "69.2MB [01:22, 1.07MB/s]\n",
      "69.7MB [01:22, 1.07MB/s]\n",
      "70.3MB [01:23, 1.07MB/s]\n",
      "70.8MB [01:23, 977kB/s] \n",
      "71.3MB [01:24, 1.01MB/s]\n",
      "71.8MB [01:24, 1.03MB/s]\n",
      "72.4MB [01:25, 1.05MB/s]\n",
      "72.9MB [01:25, 1.06MB/s]\n",
      "73.4MB [01:26, 1.07MB/s]\n",
      "73.9MB [01:26, 1.07MB/s]\n",
      "74.4MB [01:27, 1.08MB/s]\n",
      "75.0MB [01:27, 976kB/s] \n",
      "75.5MB [01:28, 935kB/s]\n",
      "76.0MB [01:29, 977kB/s]\n",
      "76.5MB [01:29, 1.01MB/s]\n",
      "77.1MB [01:30, 1.03MB/s]\n",
      "77.6MB [01:30, 1.05MB/s]\n",
      "78.1MB [01:30, 1.06MB/s]\n",
      "78.6MB [01:31, 1.07MB/s]\n",
      "79.2MB [01:32, 956kB/s] \n",
      "79.7MB [01:32, 992kB/s]\n",
      "80.2MB [01:33, 929kB/s]\n",
      "80.7MB [01:33, 972kB/s]\n",
      "81.3MB [01:34, 1.00MB/s]\n",
      "81.8MB [01:34, 1.03MB/s]\n",
      "82.3MB [01:35, 1.05MB/s]\n",
      "82.8MB [01:35, 1.06MB/s]\n",
      "83.4MB [01:36, 1.07MB/s]\n",
      "83.9MB [01:36, 1.07MB/s]\n",
      "84.4MB [01:37, 1.08MB/s]\n",
      "84.9MB [01:37, 1.00MB/s]\n",
      "85.5MB [01:38, 940kB/s] \n",
      "86.0MB [01:38, 980kB/s]\n",
      "86.5MB [01:39, 1.01MB/s]\n",
      "87.0MB [01:39, 1.03MB/s]\n",
      "87.6MB [01:40, 1.05MB/s]\n",
      "88.1MB [01:40, 1.06MB/s]\n",
      "88.6MB [01:41, 1.07MB/s]\n",
      "89.1MB [01:41, 1.07MB/s]\n",
      "89.7MB [01:42, 961kB/s] \n",
      "90.2MB [01:42, 996kB/s]\n",
      "90.7MB [01:43, 1.02MB/s]\n",
      "91.2MB [01:43, 961kB/s] \n",
      "91.8MB [01:44, 985kB/s]\n",
      "92.3MB [01:44, 1.01MB/s]\n",
      "92.8MB [01:45, 1.04MB/s]\n",
      "93.3MB [01:45, 1.05MB/s]\n",
      "93.8MB [01:46, 1.06MB/s]\n",
      "94.4MB [01:46, 1.06MB/s]\n",
      "94.9MB [01:47, 1.07MB/s]\n",
      "95.4MB [01:47, 1.08MB/s]\n",
      "95.9MB [01:48, 976kB/s] \n",
      "96.5MB [01:49, 933kB/s]\n",
      "97.0MB [01:49, 973kB/s]\n",
      "97.5MB [01:50, 1.00MB/s]\n",
      "98.0MB [01:50, 1.03MB/s]\n",
      "98.6MB [01:51, 1.05MB/s]\n",
      "99.1MB [01:51, 1.06MB/s]\n",
      "99.6MB [01:52, 1.07MB/s]\n",
      "100MB [01:52, 955kB/s]  \n",
      "101MB [01:53, 911kB/s]\n",
      "101MB [01:53, 954kB/s]\n",
      "102MB [01:54, 992kB/s]\n",
      "102MB [01:54, 1.02MB/s]\n",
      "103MB [01:55, 1.04MB/s]\n",
      "103MB [01:55, 1.05MB/s]\n",
      "104MB [01:56, 1.06MB/s]\n",
      "104MB [01:56, 1.07MB/s]\n",
      "105MB [01:57, 1.08MB/s]\n",
      "105MB [01:57, 1.08MB/s]\n",
      "106MB [01:58, 1.08MB/s]\n",
      "106MB [01:58, 1.08MB/s]\n",
      "107MB [01:59, 1.09MB/s]\n",
      "107MB [01:59, 1.09MB/s]\n",
      "108MB [02:00, 1.09MB/s]\n",
      "109MB [02:00, 1.09MB/s]\n",
      "109MB [02:01, 1.09MB/s]\n",
      "110MB [02:01, 1.09MB/s]\n",
      "110MB [02:02, 1.09MB/s]\n",
      "111MB [02:02, 968kB/s] \n",
      "111MB [02:03, 1.00MB/s]\n",
      "112MB [02:03, 1.03MB/s]\n",
      "112MB [02:04, 1.04MB/s]\n",
      "113MB [02:04, 1.06MB/s]\n",
      "113MB [02:05, 1.07MB/s]\n",
      "114MB [02:05, 1.07MB/s]\n",
      "114MB [02:06, 1.08MB/s]\n",
      "115MB [02:06, 1.08MB/s]\n",
      "115MB [02:07, 1.08MB/s]\n",
      "116MB [02:07, 1.05MB/s]\n",
      "116MB [02:08, 1.02MB/s]\n",
      "117MB [02:08, 1.04MB/s]\n",
      "117MB [02:09, 1.05MB/s]\n",
      "118MB [02:09, 1.06MB/s]\n",
      "118MB [02:10, 1.07MB/s]\n",
      "119MB [02:10, 1.08MB/s]\n",
      "120MB [02:11, 1.08MB/s]\n",
      "120MB [02:11, 1.08MB/s]\n",
      "121MB [02:12, 1.08MB/s]\n",
      "121MB [02:12, 1.09MB/s]\n",
      "122MB [02:13, 968kB/s] \n",
      "122MB [02:13, 1.00MB/s]\n",
      "123MB [02:14, 1.02MB/s]\n",
      "123MB [02:14, 1.04MB/s]\n",
      "124MB [02:15, 1.06MB/s]\n",
      "124MB [02:15, 1.07MB/s]\n",
      "125MB [02:16, 1.07MB/s]\n",
      "125MB [02:16, 1.08MB/s]\n",
      "126MB [02:17, 1.08MB/s]\n",
      "126MB [02:17, 1.08MB/s]\n",
      "127MB [02:17, 1.08MB/s]\n",
      "127MB [02:18, 1.08MB/s]\n",
      "128MB [02:18, 1.08MB/s]\n",
      "128MB [02:19, 1.08MB/s]\n",
      "129MB [02:19, 1.08MB/s]\n",
      "129MB [02:20, 1.08MB/s]\n",
      "130MB [02:20, 1.07MB/s]\n",
      "131MB [02:21, 1.07MB/s]\n",
      "131MB [02:21, 1.07MB/s]\n",
      "132MB [02:22, 1.03MB/s]\n",
      "132MB [02:22, 1.05MB/s]\n",
      "133MB [02:23, 949kB/s] \n",
      "133MB [02:24, 987kB/s]\n",
      "134MB [02:24, 1.02MB/s]\n",
      "134MB [02:25, 1.04MB/s]\n",
      "135MB [02:25, 1.05MB/s]\n",
      "135MB [02:26, 1.06MB/s]\n",
      "136MB [02:26, 1.07MB/s]\n",
      "136MB [02:26, 1.07MB/s]\n",
      "137MB [02:27, 1.08MB/s]\n",
      "137MB [02:27, 1.08MB/s]\n",
      "138MB [02:28, 1.08MB/s]\n",
      "138MB [02:28, 1.08MB/s]\n",
      "139MB [02:29, 1.08MB/s]\n",
      "139MB [02:29, 1.09MB/s]\n",
      "140MB [02:30, 1.09MB/s]\n",
      "141MB [02:30, 1.09MB/s]\n",
      "141MB [02:31, 1.09MB/s]\n",
      "142MB [02:31, 1.09MB/s]\n",
      "142MB [02:32, 1.09MB/s]\n",
      "143MB [02:32, 1.09MB/s]\n",
      "143MB [02:33, 1.02MB/s]\n",
      "144MB [02:33, 984kB/s] \n",
      "144MB [02:34, 1.01MB/s]\n",
      "145MB [02:34, 1.03MB/s]\n",
      "145MB [02:35, 1.05MB/s]\n",
      "146MB [02:35, 1.01MB/s]\n",
      "146MB [02:36, 1.03MB/s]\n",
      "147MB [02:36, 1.05MB/s]\n",
      "147MB [02:37, 1.06MB/s]\n",
      "148MB [02:37, 1.07MB/s]\n",
      "148MB [02:38, 1.07MB/s]\n",
      "149MB [02:38, 1.08MB/s]\n",
      "149MB [02:39, 1.08MB/s]\n",
      "150MB [02:39, 1.08MB/s]\n",
      "150MB [02:40, 1.08MB/s]\n",
      "151MB [02:40, 1.09MB/s]\n",
      "152MB [02:41, 1.09MB/s]\n",
      "152MB [02:41, 1.09MB/s]\n",
      "153MB [02:42, 1.07MB/s]\n",
      "153MB [02:42, 1.09MB/s]\n",
      "154MB [02:43, 1.09MB/s]\n",
      "154MB [02:43, 1.09MB/s]\n",
      "155MB [02:44, 1.09MB/s]\n",
      "155MB [02:44, 1.09MB/s]\n",
      "156MB [02:45, 1.09MB/s]\n",
      "156MB [02:45, 1.09MB/s]\n",
      "157MB [02:46, 1.09MB/s]\n",
      "157MB [02:46, 1.09MB/s]\n",
      "158MB [02:47, 1.08MB/s]\n",
      "158MB [02:47, 1.09MB/s]\n",
      "159MB [02:47, 1.09MB/s]\n",
      "159MB [02:48, 1.07MB/s]\n",
      "160MB [02:49, 1.05MB/s]\n",
      "160MB [02:49, 1.09MB/s]\n",
      "161MB [02:49, 1.07MB/s]\n",
      "161MB [02:50, 1.07MB/s]\n",
      "162MB [02:50, 1.07MB/s]\n",
      "163MB [02:51, 1.08MB/s]\n",
      "163MB [02:51, 1.08MB/s]\n",
      "164MB [02:52, 952kB/s] \n",
      "164MB [02:53, 988kB/s]\n",
      "165MB [02:53, 1.01MB/s]\n",
      "165MB [02:54, 1.04MB/s]\n",
      "166MB [02:54, 1.05MB/s]\n",
      "166MB [02:55, 1.05MB/s]\n",
      "167MB [02:56, 787kB/s] \n",
      "167MB [02:56, 857kB/s]\n",
      "168MB [02:57, 915kB/s]\n",
      "168MB [02:57, 778kB/s]\n",
      "169MB [02:58, 880kB/s]\n",
      "169MB [02:58, 931kB/s]\n",
      "170MB [02:59, 947kB/s]\n",
      "170MB [02:59, 984kB/s]\n",
      "171MB [03:00, 1.01MB/s]\n",
      "171MB [03:00, 1.02MB/s]\n",
      "172MB [03:01, 1.02MB/s]\n",
      "172MB [03:01, 1.01MB/s]\n",
      "173MB [03:02, 953kB/s] \n",
      "174MB [03:03, 979kB/s]\n",
      "174MB [03:03, 990kB/s]\n",
      "175MB [03:04, 1.01MB/s]\n",
      "175MB [03:04, 1.03MB/s]\n",
      "176MB [03:05, 1.04MB/s]\n",
      "176MB [03:05, 1.05MB/s]\n",
      "177MB [03:06, 858kB/s] \n",
      "177MB [03:07, 818kB/s]\n",
      "178MB [03:07, 831kB/s]\n",
      "178MB [03:08, 869kB/s]\n",
      "179MB [03:08, 923kB/s]\n",
      "179MB [03:09, 968kB/s]\n",
      "180MB [03:09, 1.00MB/s]\n",
      "180MB [03:10, 1.03MB/s]\n",
      "181MB [03:10, 1.04MB/s]\n",
      "181MB [03:11, 1.06MB/s]\n",
      "182MB [03:11, 1.07MB/s]\n",
      "182MB [03:12, 1.07MB/s]\n",
      "183MB [03:12, 1.08MB/s]\n",
      "184MB [03:13, 1.08MB/s]\n",
      "184MB [03:13, 1.08MB/s]\n",
      "185MB [03:14, 1.09MB/s]\n",
      "185MB [03:14, 1.09MB/s]\n",
      "186MB [03:15, 1.09MB/s]\n",
      "186MB [03:15, 1.09MB/s]\n",
      "187MB [03:16, 1.01MB/s]\n",
      "187MB [03:16, 1.03MB/s]\n",
      "188MB [03:17, 1.05MB/s]\n",
      "188MB [03:17, 1.03MB/s]\n",
      "189MB [03:18, 1.03MB/s]\n",
      "189MB [03:18, 943kB/s] \n",
      "190MB [03:19, 982kB/s]\n",
      "190MB [03:19, 1.01MB/s]\n",
      "191MB [03:20, 1.03MB/s]\n",
      "191MB [03:20, 1.05MB/s]\n",
      "192MB [03:21, 1.05MB/s]\n",
      "192MB [03:21, 1.06MB/s]\n",
      "193MB [03:22, 1.07MB/s]\n",
      "193MB [03:22, 1.07MB/s]\n",
      "194MB [03:23, 1.08MB/s]\n",
      "195MB [03:23, 1.08MB/s]\n",
      "195MB [03:24, 1.08MB/s]\n",
      "196MB [03:24, 1.09MB/s]\n",
      "196MB [03:25, 1.09MB/s]\n",
      "197MB [03:25, 1.09MB/s]\n",
      "197MB [03:26, 1.08MB/s]\n",
      "198MB [03:26, 1.08MB/s]\n",
      "198MB [03:26, 1.08MB/s]\n",
      "199MB [03:27, 1.09MB/s]\n",
      "199MB [03:27, 1.05MB/s]\n",
      "200MB [03:28, 1.06MB/s]\n",
      "200MB [03:28, 1.07MB/s]\n",
      "201MB [03:29, 961kB/s] \n",
      "201MB [03:30, 993kB/s]\n",
      "202MB [03:30, 1.02MB/s]\n",
      "202MB [03:31, 914kB/s] \n",
      "203MB [03:31, 958kB/s]\n",
      "203MB [03:32, 994kB/s]\n",
      "204MB [03:32, 1.02MB/s]\n",
      "204MB [03:33, 1.04MB/s]\n",
      "205MB [03:33, 1.05MB/s]\n",
      "206MB [03:34, 1.06MB/s]\n",
      "206MB [03:34, 1.07MB/s]\n",
      "207MB [03:35, 1.08MB/s]\n",
      "207MB [03:35, 1.08MB/s]\n",
      "208MB [03:36, 1.06MB/s]\n",
      "208MB [03:36, 1.07MB/s]\n",
      "209MB [03:37, 1.07MB/s]\n",
      "209MB [03:37, 1.08MB/s]\n",
      "210MB [03:38, 1.08MB/s]\n",
      "210MB [03:38, 1.08MB/s]\n",
      "211MB [03:39, 1.08MB/s]\n",
      "211MB [03:39, 1.08MB/s]\n",
      "212MB [03:40, 1.01MB/s]\n",
      "212MB [03:40, 914kB/s] \n",
      "213MB [03:41, 960kB/s]\n",
      "213MB [03:41, 994kB/s]\n",
      "214MB [03:42, 1.01MB/s]\n",
      "214MB [03:42, 1.04MB/s]\n",
      "215MB [03:43, 1.05MB/s]\n",
      "215MB [03:43, 1.06MB/s]\n",
      "216MB [03:44, 1.06MB/s]\n",
      "217MB [03:44, 1.07MB/s]\n",
      "217MB [03:45, 1.07MB/s]\n",
      "218MB [03:45, 1.07MB/s]\n",
      "218MB [03:46, 963kB/s] \n",
      "219MB [03:46, 997kB/s]\n",
      "219MB [03:47, 1.01MB/s]\n",
      "220MB [03:47, 1.03MB/s]\n",
      "220MB [03:48, 994kB/s] \n",
      "221MB [03:48, 1.03MB/s]\n",
      "221MB [03:49, 1.02MB/s]\n",
      "222MB [03:49, 1.01MB/s]\n",
      "222MB [03:50, 1.02MB/s]\n",
      "223MB [03:51, 981kB/s] \n",
      "223MB [03:51, 976kB/s]\n",
      "224MB [03:52, 997kB/s]\n",
      "224MB [03:52, 976kB/s]\n",
      "225MB [03:53, 1.01MB/s]\n",
      "225MB [03:53, 1.03MB/s]\n",
      "226MB [03:54, 1.05MB/s]\n",
      "226MB [03:54, 1.06MB/s]\n",
      "227MB [03:55, 1.07MB/s]\n",
      "228MB [03:55, 1.07MB/s]\n",
      "228MB [03:56, 1.07MB/s]\n",
      "229MB [03:56, 1.08MB/s]\n",
      "229MB [03:56, 1.08MB/s]\n",
      "230MB [03:57, 1.08MB/s]\n",
      "230MB [03:57, 1.09MB/s]\n",
      "231MB [03:58, 1.08MB/s]\n",
      "231MB [03:58, 1.05MB/s]\n",
      "232MB [03:59, 1.06MB/s]\n",
      "232MB [03:59, 1.07MB/s]\n",
      "233MB [04:00, 954kB/s] \n",
      "233MB [04:01, 991kB/s]\n",
      "234MB [04:01, 1.02MB/s]\n",
      "234MB [04:02, 1.04MB/s]\n",
      "235MB [04:02, 1.05MB/s]\n",
      "235MB [04:03, 1.06MB/s]\n",
      "236MB [04:03, 1.07MB/s]\n",
      "236MB [04:04, 1.07MB/s]\n",
      "237MB [04:04, 1.08MB/s]\n",
      "238MB [04:04, 1.08MB/s]\n",
      "238MB [04:05, 1.08MB/s]\n",
      "239MB [04:05, 1.08MB/s]\n",
      "239MB [04:06, 1.09MB/s]\n",
      "240MB [04:06, 1.09MB/s]\n",
      "240MB [04:07, 1.09MB/s]\n",
      "241MB [04:07, 1.09MB/s]\n",
      "241MB [04:08, 1.09MB/s]\n",
      "242MB [04:08, 1.08MB/s]\n",
      "242MB [04:09, 1.09MB/s]\n",
      "243MB [04:09, 1.09MB/s]\n",
      "243MB [04:10, 1.09MB/s]\n",
      "244MB [04:10, 969kB/s] \n",
      "244MB [04:11, 1.00MB/s]\n",
      "245MB [04:11, 1.00MB/s]\n",
      "245MB [04:12, 998kB/s] \n",
      "246MB [04:12, 1.02MB/s]\n",
      "246MB [04:13, 1.04MB/s]\n",
      "247MB [04:13, 1.05MB/s]\n",
      "247MB [04:14, 1.06MB/s]\n",
      "248MB [04:14, 1.07MB/s]\n",
      "249MB [04:15, 1.07MB/s]\n",
      "249MB [04:15, 1.05MB/s]\n",
      "250MB [04:16, 1.08MB/s]\n",
      "250MB [04:16, 1.07MB/s]\n",
      "251MB [04:17, 1.07MB/s]\n",
      "251MB [04:17, 1.05MB/s]\n",
      "252MB [04:18, 1.06MB/s]\n",
      "252MB [04:18, 1.06MB/s]\n",
      "253MB [04:19, 1.06MB/s]\n",
      "253MB [04:19, 992kB/s] \n",
      "254MB [04:20, 1.02MB/s]\n",
      "254MB [04:21, 910kB/s] \n",
      "255MB [04:21, 958kB/s]\n",
      "255MB [04:22, 991kB/s]\n",
      "256MB [04:22, 1.02MB/s]\n",
      "256MB [04:23, 1.03MB/s]\n",
      "257MB [04:23, 1.05MB/s]\n",
      "257MB [04:24, 1.04MB/s]\n",
      "258MB [04:24, 1.01MB/s]\n",
      "258MB [04:25, 1.01MB/s]\n",
      "259MB [04:25, 1.03MB/s]\n",
      "260MB [04:26, 1.05MB/s]\n",
      "260MB [04:26, 1.06MB/s]\n",
      "261MB [04:27, 1.07MB/s]\n",
      "261MB [04:27, 1.07MB/s]\n",
      "262MB [04:28, 1.07MB/s]\n",
      "262MB [04:28, 1.07MB/s]\n",
      "263MB [04:29, 1.08MB/s]\n",
      "263MB [04:29, 1.08MB/s]\n",
      "264MB [04:30, 1.08MB/s]\n",
      "264MB [04:30, 1.08MB/s]\n",
      "265MB [04:30, 1.09MB/s]\n",
      "265MB [04:31, 937kB/s] \n",
      "266MB [04:32, 968kB/s]\n",
      "266MB [04:32, 1.00MB/s]\n",
      "267MB [04:33, 1.02MB/s]\n",
      "267MB [04:33, 1.04MB/s]\n",
      "268MB [04:34, 1.03MB/s]\n",
      "268MB [04:34, 1.04MB/s]\n",
      "269MB [04:35, 1.05MB/s]\n",
      "269MB [04:35, 1.06MB/s]\n",
      "270MB [04:36, 1.07MB/s]\n",
      "271MB [04:36, 1.03MB/s]\n",
      "271MB [04:37, 997kB/s] \n",
      "272MB [04:37, 997kB/s]\n",
      "272MB [04:38, 1.02MB/s]\n",
      "273MB [04:38, 1.03MB/s]\n",
      "273MB [04:39, 1.04MB/s]\n",
      "274MB [04:39, 1.05MB/s]\n",
      "274MB [04:40, 1.06MB/s]\n",
      "275MB [04:40, 1.01MB/s]\n",
      "275MB [04:41, 1.02MB/s]\n",
      "276MB [04:42, 741kB/s] \n",
      "276MB [04:42, 808kB/s]\n",
      "277MB [04:43, 875kB/s]\n",
      "277MB [04:43, 915kB/s]\n",
      "278MB [04:44, 949kB/s]\n",
      "278MB [04:44, 974kB/s]\n",
      "279MB [04:45, 1.00MB/s]\n",
      "279MB [04:45, 1.03MB/s]\n",
      "280MB [04:46, 1.04MB/s]\n",
      "280MB [04:46, 1.06MB/s]\n",
      "281MB [04:47, 1.07MB/s]\n",
      "282MB [04:47, 1.07MB/s]\n",
      "282MB [04:48, 1.07MB/s]\n",
      "283MB [04:48, 1.07MB/s]\n",
      "283MB [04:49, 1.06MB/s]\n",
      "284MB [04:49, 1.06MB/s]\n",
      "284MB [04:50, 1.06MB/s]\n",
      "285MB [04:50, 1.04MB/s]\n",
      "285MB [04:51, 1.06MB/s]\n",
      "286MB [04:51, 1.05MB/s]\n",
      "286MB [04:52, 1.05MB/s]\n",
      "287MB [04:52, 1.05MB/s]\n",
      "287MB [04:53, 1.06MB/s]\n",
      "288MB [04:53, 1.06MB/s]\n",
      "288MB [04:54, 1.07MB/s]\n",
      "289MB [04:54, 1.07MB/s]\n",
      "289MB [04:55, 1.08MB/s]\n",
      "290MB [04:55, 1.08MB/s]\n",
      "290MB [04:56, 1.04MB/s]\n",
      "291MB [04:56, 1.06MB/s]\n",
      "292MB [04:57, 1.06MB/s]\n",
      "292MB [04:57, 1.07MB/s]\n",
      "293MB [04:58, 1.07MB/s]\n",
      "293MB [04:58, 1.08MB/s]\n",
      "294MB [04:59, 1.08MB/s]\n",
      "294MB [04:59, 1.08MB/s]\n",
      "295MB [05:00, 1.08MB/s]\n",
      "295MB [05:00, 1.08MB/s]\n",
      "296MB [05:01, 1.09MB/s]\n",
      "296MB [05:01, 1.09MB/s]\n",
      "297MB [05:02, 968kB/s] \n",
      "297MB [05:02, 1.00MB/s]\n",
      "298MB [05:03, 1.03MB/s]\n",
      "298MB [05:03, 1.04MB/s]\n",
      "299MB [05:04, 1.06MB/s]\n",
      "299MB [05:04, 1.08MB/s]\n",
      "300MB [05:05, 1.07MB/s]\n",
      "300MB [05:05, 1.07MB/s]\n",
      "301MB [05:06, 1.08MB/s]\n",
      "301MB [05:06, 1.08MB/s]\n",
      "302MB [05:07, 1.08MB/s]\n",
      "303MB [05:07, 1.09MB/s]\n",
      "303MB [05:08, 1.09MB/s]\n",
      "304MB [05:08, 1.05MB/s]\n",
      "304MB [05:09, 1.06MB/s]\n",
      "305MB [05:09, 1.06MB/s]\n",
      "305MB [05:10, 1.07MB/s]\n",
      "306MB [05:10, 1.08MB/s]\n",
      "306MB [05:11, 1.08MB/s]\n",
      "307MB [05:11, 1.08MB/s]\n",
      "307MB [05:11, 1.08MB/s]\n",
      "308MB [05:12, 970kB/s] \n",
      "308MB [05:13, 997kB/s]\n",
      "309MB [05:13, 1.02MB/s]\n",
      "309MB [05:14, 1.04MB/s]\n",
      "310MB [05:14, 1.05MB/s]\n",
      "310MB [05:15, 1.06MB/s]\n",
      "311MB [05:15, 1.07MB/s]\n",
      "311MB [05:16, 1.08MB/s]\n",
      "312MB [05:16, 1.08MB/s]\n",
      "312MB [05:17, 1.09MB/s]\n",
      "313MB [05:17, 1.08MB/s]\n",
      "314MB [05:17, 1.09MB/s]\n",
      "314MB [05:18, 1.05MB/s]\n",
      "315MB [05:19, 1.03MB/s]\n",
      "315MB [05:19, 1.05MB/s]\n",
      "316MB [05:20, 1.06MB/s]\n",
      "316MB [05:20, 1.07MB/s]\n",
      "317MB [05:20, 1.07MB/s]\n",
      "317MB [05:21, 1.08MB/s]\n",
      "318MB [05:21, 1.08MB/s]\n",
      "318MB [05:22, 1.08MB/s]\n",
      "319MB [05:23, 966kB/s] \n",
      "319MB [05:23, 1.00MB/s]\n",
      "320MB [05:24, 1.00MB/s]\n",
      "320MB [05:24, 1.03MB/s]\n",
      "321MB [05:25, 1.05MB/s]\n",
      "321MB [05:25, 1.04MB/s]\n",
      "322MB [05:26, 936kB/s] \n",
      "322MB [05:27, 820kB/s]\n",
      "323MB [05:27, 855kB/s]\n",
      "323MB [05:28, 860kB/s]\n",
      "324MB [05:28, 908kB/s]\n",
      "325MB [05:29, 944kB/s]\n",
      "325MB [05:29, 974kB/s]\n",
      "326MB [05:30, 1.01MB/s]\n",
      "326MB [05:30, 1.03MB/s]\n",
      "327MB [05:31, 1.05MB/s]\n",
      "327MB [05:31, 1.06MB/s]\n",
      "328MB [05:32, 1.07MB/s]\n",
      "328MB [05:32, 1.07MB/s]\n",
      "329MB [05:33, 960kB/s] \n",
      "329MB [05:33, 996kB/s]\n",
      "330MB [05:34, 1.02MB/s]\n",
      "330MB [05:34, 1.04MB/s]\n",
      "331MB [05:35, 1.05MB/s]\n",
      "331MB [05:35, 1.06MB/s]\n",
      "332MB [05:36, 1.07MB/s]\n",
      "332MB [05:36, 1.07MB/s]\n",
      "333MB [05:37, 1.08MB/s]\n",
      "333MB [05:37, 1.08MB/s]\n",
      "334MB [05:38, 1.08MB/s]\n",
      "334MB [05:38, 1.09MB/s]\n",
      "335MB [05:39, 1.09MB/s]\n",
      "336MB [05:39, 1.09MB/s]\n",
      "336MB [05:40, 1.09MB/s]\n",
      "337MB [05:40, 1.09MB/s]\n",
      "337MB [05:41, 1.09MB/s]\n",
      "338MB [05:41, 1.09MB/s]\n",
      "338MB [05:42, 1.03MB/s]\n",
      "339MB [05:42, 1.02MB/s]\n",
      "339MB [05:43, 812kB/s] \n",
      "340MB [05:44, 878kB/s]\n",
      "340MB [05:44, 932kB/s]\n",
      "341MB [05:44, 977kB/s]\n",
      "341MB [05:45, 1.01MB/s]\n",
      "342MB [05:45, 1.02MB/s]\n",
      "342MB [05:46, 1.04MB/s]\n",
      "343MB [05:46, 1.06MB/s]\n",
      "343MB [05:47, 1.06MB/s]\n",
      "344MB [05:47, 1.07MB/s]\n",
      "344MB [05:48, 1.07MB/s]\n",
      "345MB [05:48, 1.08MB/s]\n",
      "346MB [05:49, 1.08MB/s]\n",
      "346MB [05:49, 1.08MB/s]\n",
      "347MB [05:50, 1.09MB/s]\n",
      "347MB [05:50, 1.08MB/s]\n",
      "348MB [05:51, 1.09MB/s]\n",
      "348MB [05:51, 1.08MB/s]\n",
      "349MB [05:52, 1.08MB/s]\n",
      "349MB [05:52, 1.08MB/s]\n",
      "350MB [05:53, 1.08MB/s]\n",
      "350MB [05:53, 1.09MB/s]\n",
      "351MB [05:54, 1.09MB/s]\n",
      "351MB [05:54, 1.09MB/s]\n",
      "352MB [05:55, 1.10MB/s]\n",
      "352MB [05:55, 1.09MB/s]\n",
      "353MB [05:56, 1.09MB/s]\n",
      "353MB [05:56, 1.09MB/s]\n",
      "354MB [05:57, 1.08MB/s]\n",
      "354MB [05:57, 1.09MB/s]\n",
      "355MB [05:58, 1.09MB/s]\n",
      "355MB [05:58, 1.09MB/s]\n",
      "356MB [05:59, 1.08MB/s]\n",
      "357MB [05:59, 1.10MB/s]\n",
      "357MB [05:59, 1.09MB/s]\n",
      "358MB [06:00, 1.09MB/s]\n",
      "358MB [06:00, 1.09MB/s]\n",
      "359MB [06:01, 1.09MB/s]\n",
      "359MB [06:01, 1.08MB/s]\n",
      "360MB [06:02, 1.10MB/s]\n",
      "360MB [06:02, 1.09MB/s]\n",
      "361MB [06:03, 1.09MB/s]\n",
      "361MB [06:03, 1.08MB/s]\n",
      "362MB [06:04, 1.09MB/s]\n",
      "362MB [06:04, 1.09MB/s]\n",
      "363MB [06:05, 1.09MB/s]\n",
      "363MB [06:05, 1.08MB/s]\n",
      "364MB [06:06, 1.09MB/s]\n",
      "364MB [06:06, 1.09MB/s]\n",
      "365MB [06:07, 974kB/s] \n",
      "365MB [06:07, 1.00MB/s]\n",
      "366MB [06:08, 1.03MB/s]\n",
      "366MB [06:08, 1.04MB/s]\n",
      "367MB [06:09, 988kB/s] \n",
      "368MB [06:09, 1.02MB/s]\n",
      "368MB [06:10, 1.04MB/s]\n",
      "369MB [06:10, 1.05MB/s]\n",
      "369MB [06:11, 1.06MB/s]\n",
      "370MB [06:11, 1.07MB/s]\n",
      "370MB [06:12, 1.07MB/s]\n",
      "371MB [06:12, 1.09MB/s]\n",
      "371MB [06:13, 1.08MB/s]\n",
      "372MB [06:13, 1.08MB/s]\n",
      "372MB [06:14, 1.09MB/s]\n",
      "373MB [06:14, 1.08MB/s]\n",
      "373MB [06:15, 1.07MB/s]\n",
      "374MB [06:15, 1.08MB/s]\n",
      "374MB [06:16, 1.07MB/s]\n",
      "375MB [06:16, 1.07MB/s]\n",
      "375MB [06:17, 1.08MB/s]\n",
      "376MB [06:17, 899kB/s] \n",
      "376MB [06:18, 954kB/s]\n",
      "377MB [06:18, 984kB/s]\n",
      "377MB [06:19, 1.02MB/s]\n",
      "378MB [06:19, 1.03MB/s]\n",
      "379MB [06:20, 1.06MB/s]\n",
      "379MB [06:20, 1.06MB/s]\n",
      "380MB [06:21, 1.07MB/s]\n",
      "380MB [06:21, 1.07MB/s]\n",
      "381MB [06:22, 1.08MB/s]\n",
      "381MB [06:22, 1.08MB/s]\n",
      "382MB [06:23, 1.09MB/s]\n",
      "382MB [06:23, 1.09MB/s]\n",
      "383MB [06:24, 1.09MB/s]\n",
      "383MB [06:24, 1.08MB/s]\n",
      "384MB [06:25, 1.08MB/s]\n",
      "384MB [06:25, 1.09MB/s]\n",
      "385MB [06:26, 1.09MB/s]\n",
      "385MB [06:26, 1.08MB/s]\n",
      "386MB [06:27, 1.09MB/s]\n",
      "386MB [06:27, 970kB/s] \n",
      "387MB [06:28, 1.00MB/s]\n",
      "387MB [06:28, 1.03MB/s]\n",
      "388MB [06:29, 1.04MB/s]\n",
      "388MB [06:29, 1.06MB/s]\n",
      "389MB [06:30, 1.07MB/s]\n",
      "390MB [06:30, 1.08MB/s]\n",
      "390MB [06:31, 1.08MB/s]\n",
      "391MB [06:31, 1.08MB/s]\n",
      "391MB [06:32, 1.08MB/s]\n",
      "392MB [06:32, 1.08MB/s]\n",
      "392MB [06:33, 1.08MB/s]\n",
      "393MB [06:33, 1.08MB/s]\n",
      "393MB [06:34, 1.10MB/s]\n",
      "394MB [06:34, 1.08MB/s]\n",
      "394MB [06:35, 1.09MB/s]\n",
      "395MB [06:35, 1.08MB/s]\n",
      "395MB [06:36, 1.08MB/s]\n",
      "396MB [06:36, 1.09MB/s]\n",
      "396MB [06:36, 1.08MB/s]\n",
      "397MB [06:37, 1.09MB/s]\n",
      "397MB [06:38, 968kB/s] \n",
      "398MB [06:38, 1.00MB/s]\n",
      "398MB [06:39, 1.03MB/s]\n",
      "399MB [06:39, 1.05MB/s]\n",
      "400MB [06:40, 1.06MB/s]\n",
      "400MB [06:40, 1.06MB/s]\n",
      "401MB [06:41, 1.07MB/s]\n",
      "401MB [06:41, 1.08MB/s]\n",
      "402MB [06:41, 1.08MB/s]\n",
      "402MB [06:42, 1.09MB/s]\n",
      "403MB [06:42, 1.09MB/s]\n",
      "403MB [06:43, 1.08MB/s]\n",
      "404MB [06:43, 1.09MB/s]\n",
      "404MB [06:44, 1.09MB/s]\n",
      "405MB [06:44, 1.08MB/s]\n",
      "405MB [06:45, 1.09MB/s]\n",
      "406MB [06:45, 1.09MB/s]\n",
      "406MB [06:46, 1.09MB/s]\n",
      "407MB [06:46, 1.09MB/s]\n",
      "407MB [06:47, 1.09MB/s]\n",
      "408MB [06:47, 1.09MB/s]\n",
      "408MB [06:48, 978kB/s] \n",
      "409MB [06:48, 1.01MB/s]\n",
      "409MB [06:49, 1.02MB/s]\n",
      "410MB [06:49, 1.04MB/s]\n",
      "411MB [06:50, 1.06MB/s]\n",
      "411MB [06:50, 1.07MB/s]\n",
      "412MB [06:51, 1.07MB/s]\n",
      "412MB [06:51, 1.07MB/s]\n",
      "413MB [06:52, 1.09MB/s]\n",
      "413MB [06:52, 1.08MB/s]\n",
      "414MB [06:53, 1.08MB/s]\n",
      "414MB [06:53, 1.08MB/s]\n",
      "415MB [06:54, 1.08MB/s]\n",
      "415MB [06:54, 1.09MB/s]\n",
      "416MB [06:55, 1.09MB/s]\n",
      "416MB [06:55, 1.09MB/s]\n",
      "417MB [06:56, 1.09MB/s]\n",
      "417MB [06:56, 1.09MB/s]\n",
      "418MB [06:57, 1.09MB/s]\n",
      "418MB [06:57, 1.09MB/s]\n",
      "419MB [06:58, 1.09MB/s]\n",
      "419MB [06:58, 962kB/s] \n",
      "420MB [06:59, 1.01MB/s]\n",
      "420MB [06:59, 1.02MB/s]\n",
      "421MB [07:00, 1.04MB/s]\n",
      "422MB [07:00, 1.06MB/s]\n",
      "422MB [07:01, 1.07MB/s]\n",
      "423MB [07:01, 1.06MB/s]\n",
      "423MB [07:02, 1.07MB/s]\n",
      "424MB [07:02, 1.08MB/s]\n",
      "424MB [07:03, 1.07MB/s]\n",
      "425MB [07:03, 1.08MB/s]\n",
      "425MB [07:04, 1.08MB/s]\n",
      "426MB [07:04, 1.09MB/s]\n",
      "426MB [07:05, 1.09MB/s]\n",
      "427MB [07:05, 1.09MB/s]\n",
      "427MB [07:06, 1.09MB/s]\n",
      "428MB [07:06, 1.09MB/s]\n",
      "428MB [07:06, 1.08MB/s]\n",
      "429MB [07:07, 1.08MB/s]\n",
      "429MB [07:07, 1.09MB/s]\n",
      "430MB [07:08, 1.09MB/s]\n",
      "430MB [07:09, 973kB/s] \n",
      "431MB [07:09, 1.00MB/s]\n",
      "431MB [07:10, 1.02MB/s]\n",
      "432MB [07:10, 1.05MB/s]\n",
      "433MB [07:11, 1.06MB/s]\n",
      "433MB [07:11, 1.07MB/s]\n",
      "433MB [07:11, 1.08MB/s]\n",
      "433MB [07:11, 1.00MB/s]\n"
     ]
    },
    {
     "ename": "RuntimeError",
     "evalue": "CUDA out of memory. Tried to allocate 86.00 MiB (GPU 0; 3.00 GiB total capacity; 1.97 GiB already allocated; 21.55 MiB free; 2.16 GiB reserved in total by PyTorch)",
     "output_type": "error",
     "traceback": [
      "\u001b[1;31m---------------------------------------------------------------------------\u001b[0m",
      "\u001b[1;31mRuntimeError\u001b[0m                              Traceback (most recent call last)",
      "\u001b[1;32m<ipython-input-47-905bc9cd5acd>\u001b[0m in \u001b[0;36m<module>\u001b[1;34m\u001b[0m\n\u001b[0;32m      1\u001b[0m \u001b[0mget_ipython\u001b[0m\u001b[1;33m(\u001b[0m\u001b[1;33m)\u001b[0m\u001b[1;33m.\u001b[0m\u001b[0msystem\u001b[0m\u001b[1;33m(\u001b[0m\u001b[1;34m'gdown --id 1V8itWtowCYnb2Bc9KlK9SxGff9WwmogA'\u001b[0m\u001b[1;33m)\u001b[0m\u001b[1;33m\u001b[0m\u001b[1;33m\u001b[0m\u001b[0m\n\u001b[0;32m      2\u001b[0m \u001b[0mmodel\u001b[0m \u001b[1;33m=\u001b[0m \u001b[0mSentimentClassifier\u001b[0m\u001b[1;33m(\u001b[0m\u001b[0mlen\u001b[0m\u001b[1;33m(\u001b[0m\u001b[0mclass_names\u001b[0m\u001b[1;33m)\u001b[0m\u001b[1;33m)\u001b[0m\u001b[1;33m\u001b[0m\u001b[1;33m\u001b[0m\u001b[0m\n\u001b[1;32m----> 3\u001b[1;33m \u001b[0mmodel\u001b[0m\u001b[1;33m.\u001b[0m\u001b[0mload_state_dict\u001b[0m\u001b[1;33m(\u001b[0m\u001b[0mtorch\u001b[0m\u001b[1;33m.\u001b[0m\u001b[0mload\u001b[0m\u001b[1;33m(\u001b[0m\u001b[1;34m'best_model_state.bin'\u001b[0m\u001b[1;33m)\u001b[0m\u001b[1;33m)\u001b[0m\u001b[1;33m\u001b[0m\u001b[1;33m\u001b[0m\u001b[0m\n\u001b[0m\u001b[0;32m      4\u001b[0m \u001b[0mmodel\u001b[0m \u001b[1;33m=\u001b[0m \u001b[0mmodel\u001b[0m\u001b[1;33m.\u001b[0m\u001b[0mto\u001b[0m\u001b[1;33m(\u001b[0m\u001b[0mdevice\u001b[0m\u001b[1;33m)\u001b[0m\u001b[1;33m\u001b[0m\u001b[1;33m\u001b[0m\u001b[0m\n",
      "\u001b[1;32mc:\\users\\svetislavsimic\\anaconda3\\envs\\9gag-bert\\lib\\site-packages\\torch\\serialization.py\u001b[0m in \u001b[0;36mload\u001b[1;34m(f, map_location, pickle_module, **pickle_load_args)\u001b[0m\n\u001b[0;32m    591\u001b[0m                     \u001b[1;32mreturn\u001b[0m \u001b[0mtorch\u001b[0m\u001b[1;33m.\u001b[0m\u001b[0mjit\u001b[0m\u001b[1;33m.\u001b[0m\u001b[0mload\u001b[0m\u001b[1;33m(\u001b[0m\u001b[0mf\u001b[0m\u001b[1;33m)\u001b[0m\u001b[1;33m\u001b[0m\u001b[1;33m\u001b[0m\u001b[0m\n\u001b[0;32m    592\u001b[0m                 \u001b[1;32mreturn\u001b[0m \u001b[0m_load\u001b[0m\u001b[1;33m(\u001b[0m\u001b[0mopened_zipfile\u001b[0m\u001b[1;33m,\u001b[0m \u001b[0mmap_location\u001b[0m\u001b[1;33m,\u001b[0m \u001b[0mpickle_module\u001b[0m\u001b[1;33m,\u001b[0m \u001b[1;33m**\u001b[0m\u001b[0mpickle_load_args\u001b[0m\u001b[1;33m)\u001b[0m\u001b[1;33m\u001b[0m\u001b[1;33m\u001b[0m\u001b[0m\n\u001b[1;32m--> 593\u001b[1;33m         \u001b[1;32mreturn\u001b[0m \u001b[0m_legacy_load\u001b[0m\u001b[1;33m(\u001b[0m\u001b[0mopened_file\u001b[0m\u001b[1;33m,\u001b[0m \u001b[0mmap_location\u001b[0m\u001b[1;33m,\u001b[0m \u001b[0mpickle_module\u001b[0m\u001b[1;33m,\u001b[0m \u001b[1;33m**\u001b[0m\u001b[0mpickle_load_args\u001b[0m\u001b[1;33m)\u001b[0m\u001b[1;33m\u001b[0m\u001b[1;33m\u001b[0m\u001b[0m\n\u001b[0m\u001b[0;32m    594\u001b[0m \u001b[1;33m\u001b[0m\u001b[0m\n\u001b[0;32m    595\u001b[0m \u001b[1;33m\u001b[0m\u001b[0m\n",
      "\u001b[1;32mc:\\users\\svetislavsimic\\anaconda3\\envs\\9gag-bert\\lib\\site-packages\\torch\\serialization.py\u001b[0m in \u001b[0;36m_legacy_load\u001b[1;34m(f, map_location, pickle_module, **pickle_load_args)\u001b[0m\n\u001b[0;32m    771\u001b[0m     \u001b[0munpickler\u001b[0m \u001b[1;33m=\u001b[0m \u001b[0mpickle_module\u001b[0m\u001b[1;33m.\u001b[0m\u001b[0mUnpickler\u001b[0m\u001b[1;33m(\u001b[0m\u001b[0mf\u001b[0m\u001b[1;33m,\u001b[0m \u001b[1;33m**\u001b[0m\u001b[0mpickle_load_args\u001b[0m\u001b[1;33m)\u001b[0m\u001b[1;33m\u001b[0m\u001b[1;33m\u001b[0m\u001b[0m\n\u001b[0;32m    772\u001b[0m     \u001b[0munpickler\u001b[0m\u001b[1;33m.\u001b[0m\u001b[0mpersistent_load\u001b[0m \u001b[1;33m=\u001b[0m \u001b[0mpersistent_load\u001b[0m\u001b[1;33m\u001b[0m\u001b[1;33m\u001b[0m\u001b[0m\n\u001b[1;32m--> 773\u001b[1;33m     \u001b[0mresult\u001b[0m \u001b[1;33m=\u001b[0m \u001b[0munpickler\u001b[0m\u001b[1;33m.\u001b[0m\u001b[0mload\u001b[0m\u001b[1;33m(\u001b[0m\u001b[1;33m)\u001b[0m\u001b[1;33m\u001b[0m\u001b[1;33m\u001b[0m\u001b[0m\n\u001b[0m\u001b[0;32m    774\u001b[0m \u001b[1;33m\u001b[0m\u001b[0m\n\u001b[0;32m    775\u001b[0m     \u001b[0mdeserialized_storage_keys\u001b[0m \u001b[1;33m=\u001b[0m \u001b[0mpickle_module\u001b[0m\u001b[1;33m.\u001b[0m\u001b[0mload\u001b[0m\u001b[1;33m(\u001b[0m\u001b[0mf\u001b[0m\u001b[1;33m,\u001b[0m \u001b[1;33m**\u001b[0m\u001b[0mpickle_load_args\u001b[0m\u001b[1;33m)\u001b[0m\u001b[1;33m\u001b[0m\u001b[1;33m\u001b[0m\u001b[0m\n",
      "\u001b[1;32mc:\\users\\svetislavsimic\\anaconda3\\envs\\9gag-bert\\lib\\site-packages\\torch\\serialization.py\u001b[0m in \u001b[0;36mpersistent_load\u001b[1;34m(saved_id)\u001b[0m\n\u001b[0;32m    727\u001b[0m                 \u001b[0mobj\u001b[0m \u001b[1;33m=\u001b[0m \u001b[0mdata_type\u001b[0m\u001b[1;33m(\u001b[0m\u001b[0msize\u001b[0m\u001b[1;33m)\u001b[0m\u001b[1;33m\u001b[0m\u001b[1;33m\u001b[0m\u001b[0m\n\u001b[0;32m    728\u001b[0m                 \u001b[0mobj\u001b[0m\u001b[1;33m.\u001b[0m\u001b[0m_torch_load_uninitialized\u001b[0m \u001b[1;33m=\u001b[0m \u001b[1;32mTrue\u001b[0m\u001b[1;33m\u001b[0m\u001b[1;33m\u001b[0m\u001b[0m\n\u001b[1;32m--> 729\u001b[1;33m                 \u001b[0mdeserialized_objects\u001b[0m\u001b[1;33m[\u001b[0m\u001b[0mroot_key\u001b[0m\u001b[1;33m]\u001b[0m \u001b[1;33m=\u001b[0m \u001b[0mrestore_location\u001b[0m\u001b[1;33m(\u001b[0m\u001b[0mobj\u001b[0m\u001b[1;33m,\u001b[0m \u001b[0mlocation\u001b[0m\u001b[1;33m)\u001b[0m\u001b[1;33m\u001b[0m\u001b[1;33m\u001b[0m\u001b[0m\n\u001b[0m\u001b[0;32m    730\u001b[0m             \u001b[0mstorage\u001b[0m \u001b[1;33m=\u001b[0m \u001b[0mdeserialized_objects\u001b[0m\u001b[1;33m[\u001b[0m\u001b[0mroot_key\u001b[0m\u001b[1;33m]\u001b[0m\u001b[1;33m\u001b[0m\u001b[1;33m\u001b[0m\u001b[0m\n\u001b[0;32m    731\u001b[0m             \u001b[1;32mif\u001b[0m \u001b[0mview_metadata\u001b[0m \u001b[1;32mis\u001b[0m \u001b[1;32mnot\u001b[0m \u001b[1;32mNone\u001b[0m\u001b[1;33m:\u001b[0m\u001b[1;33m\u001b[0m\u001b[1;33m\u001b[0m\u001b[0m\n",
      "\u001b[1;32mc:\\users\\svetislavsimic\\anaconda3\\envs\\9gag-bert\\lib\\site-packages\\torch\\serialization.py\u001b[0m in \u001b[0;36mdefault_restore_location\u001b[1;34m(storage, location)\u001b[0m\n\u001b[0;32m    176\u001b[0m \u001b[1;32mdef\u001b[0m \u001b[0mdefault_restore_location\u001b[0m\u001b[1;33m(\u001b[0m\u001b[0mstorage\u001b[0m\u001b[1;33m,\u001b[0m \u001b[0mlocation\u001b[0m\u001b[1;33m)\u001b[0m\u001b[1;33m:\u001b[0m\u001b[1;33m\u001b[0m\u001b[1;33m\u001b[0m\u001b[0m\n\u001b[0;32m    177\u001b[0m     \u001b[1;32mfor\u001b[0m \u001b[0m_\u001b[0m\u001b[1;33m,\u001b[0m \u001b[0m_\u001b[0m\u001b[1;33m,\u001b[0m \u001b[0mfn\u001b[0m \u001b[1;32min\u001b[0m \u001b[0m_package_registry\u001b[0m\u001b[1;33m:\u001b[0m\u001b[1;33m\u001b[0m\u001b[1;33m\u001b[0m\u001b[0m\n\u001b[1;32m--> 178\u001b[1;33m         \u001b[0mresult\u001b[0m \u001b[1;33m=\u001b[0m \u001b[0mfn\u001b[0m\u001b[1;33m(\u001b[0m\u001b[0mstorage\u001b[0m\u001b[1;33m,\u001b[0m \u001b[0mlocation\u001b[0m\u001b[1;33m)\u001b[0m\u001b[1;33m\u001b[0m\u001b[1;33m\u001b[0m\u001b[0m\n\u001b[0m\u001b[0;32m    179\u001b[0m         \u001b[1;32mif\u001b[0m \u001b[0mresult\u001b[0m \u001b[1;32mis\u001b[0m \u001b[1;32mnot\u001b[0m \u001b[1;32mNone\u001b[0m\u001b[1;33m:\u001b[0m\u001b[1;33m\u001b[0m\u001b[1;33m\u001b[0m\u001b[0m\n\u001b[0;32m    180\u001b[0m             \u001b[1;32mreturn\u001b[0m \u001b[0mresult\u001b[0m\u001b[1;33m\u001b[0m\u001b[1;33m\u001b[0m\u001b[0m\n",
      "\u001b[1;32mc:\\users\\svetislavsimic\\anaconda3\\envs\\9gag-bert\\lib\\site-packages\\torch\\serialization.py\u001b[0m in \u001b[0;36m_cuda_deserialize\u001b[1;34m(obj, location)\u001b[0m\n\u001b[0;32m    156\u001b[0m             \u001b[0mstorage_type\u001b[0m \u001b[1;33m=\u001b[0m \u001b[0mgetattr\u001b[0m\u001b[1;33m(\u001b[0m\u001b[0mtorch\u001b[0m\u001b[1;33m.\u001b[0m\u001b[0mcuda\u001b[0m\u001b[1;33m,\u001b[0m \u001b[0mtype\u001b[0m\u001b[1;33m(\u001b[0m\u001b[0mobj\u001b[0m\u001b[1;33m)\u001b[0m\u001b[1;33m.\u001b[0m\u001b[0m__name__\u001b[0m\u001b[1;33m)\u001b[0m\u001b[1;33m\u001b[0m\u001b[1;33m\u001b[0m\u001b[0m\n\u001b[0;32m    157\u001b[0m             \u001b[1;32mwith\u001b[0m \u001b[0mtorch\u001b[0m\u001b[1;33m.\u001b[0m\u001b[0mcuda\u001b[0m\u001b[1;33m.\u001b[0m\u001b[0mdevice\u001b[0m\u001b[1;33m(\u001b[0m\u001b[0mdevice\u001b[0m\u001b[1;33m)\u001b[0m\u001b[1;33m:\u001b[0m\u001b[1;33m\u001b[0m\u001b[1;33m\u001b[0m\u001b[0m\n\u001b[1;32m--> 158\u001b[1;33m                 \u001b[1;32mreturn\u001b[0m \u001b[0mstorage_type\u001b[0m\u001b[1;33m(\u001b[0m\u001b[0mobj\u001b[0m\u001b[1;33m.\u001b[0m\u001b[0msize\u001b[0m\u001b[1;33m(\u001b[0m\u001b[1;33m)\u001b[0m\u001b[1;33m)\u001b[0m\u001b[1;33m\u001b[0m\u001b[1;33m\u001b[0m\u001b[0m\n\u001b[0m\u001b[0;32m    159\u001b[0m         \u001b[1;32melse\u001b[0m\u001b[1;33m:\u001b[0m\u001b[1;33m\u001b[0m\u001b[1;33m\u001b[0m\u001b[0m\n\u001b[0;32m    160\u001b[0m             \u001b[1;32mreturn\u001b[0m \u001b[0mobj\u001b[0m\u001b[1;33m.\u001b[0m\u001b[0mcuda\u001b[0m\u001b[1;33m(\u001b[0m\u001b[0mdevice\u001b[0m\u001b[1;33m)\u001b[0m\u001b[1;33m\u001b[0m\u001b[1;33m\u001b[0m\u001b[0m\n",
      "\u001b[1;32mc:\\users\\svetislavsimic\\anaconda3\\envs\\9gag-bert\\lib\\site-packages\\torch\\cuda\\__init__.py\u001b[0m in \u001b[0;36m_lazy_new\u001b[1;34m(cls, *args, **kwargs)\u001b[0m\n\u001b[0;32m    431\u001b[0m     \u001b[1;31m# We may need to call lazy init again if we are a forked child\u001b[0m\u001b[1;33m\u001b[0m\u001b[1;33m\u001b[0m\u001b[1;33m\u001b[0m\u001b[0m\n\u001b[0;32m    432\u001b[0m     \u001b[1;31m# del _CudaBase.__new__\u001b[0m\u001b[1;33m\u001b[0m\u001b[1;33m\u001b[0m\u001b[1;33m\u001b[0m\u001b[0m\n\u001b[1;32m--> 433\u001b[1;33m     \u001b[1;32mreturn\u001b[0m \u001b[0msuper\u001b[0m\u001b[1;33m(\u001b[0m\u001b[0m_CudaBase\u001b[0m\u001b[1;33m,\u001b[0m \u001b[0mcls\u001b[0m\u001b[1;33m)\u001b[0m\u001b[1;33m.\u001b[0m\u001b[0m__new__\u001b[0m\u001b[1;33m(\u001b[0m\u001b[0mcls\u001b[0m\u001b[1;33m,\u001b[0m \u001b[1;33m*\u001b[0m\u001b[0margs\u001b[0m\u001b[1;33m,\u001b[0m \u001b[1;33m**\u001b[0m\u001b[0mkwargs\u001b[0m\u001b[1;33m)\u001b[0m\u001b[1;33m\u001b[0m\u001b[1;33m\u001b[0m\u001b[0m\n\u001b[0m\u001b[0;32m    434\u001b[0m \u001b[1;33m\u001b[0m\u001b[0m\n\u001b[0;32m    435\u001b[0m \u001b[1;33m\u001b[0m\u001b[0m\n",
      "\u001b[1;31mRuntimeError\u001b[0m: CUDA out of memory. Tried to allocate 86.00 MiB (GPU 0; 3.00 GiB total capacity; 1.97 GiB already allocated; 21.55 MiB free; 2.16 GiB reserved in total by PyTorch)"
     ]
    }
   ],
   "source": [
    "!gdown --id 1V8itWtowCYnb2Bc9KlK9SxGff9WwmogA"
   ]
  },
  {
   "cell_type": "code",
   "execution_count": 7,
   "metadata": {},
   "outputs": [],
   "source": [
    "class SentimentClassifier(nn.Module):\n",
    "  def __init__(self, n_classes):\n",
    "    super(SentimentClassifier, self).__init__()\n",
    "    self.bert = BertModel.from_pretrained(PRE_TRAINED_MODEL_NAME)\n",
    "    self.drop = nn.Dropout(p=0.3)\n",
    "    self.out = nn.Linear(self.bert.config.hidden_size, n_classes)\n",
    "  def forward(self, input_ids, attention_mask):\n",
    "    _, pooled_output = self.bert(\n",
    "      input_ids=input_ids,\n",
    "      attention_mask=attention_mask\n",
    "    )\n",
    "    output = self.drop(pooled_output)\n",
    "    return self.out(output)"
   ]
  },
  {
   "cell_type": "code",
   "execution_count": 8,
   "metadata": {},
   "outputs": [],
   "source": [
    "def eval_model(model, data_loader, loss_fn, device, n_examples):\n",
    "  model = model.eval()\n",
    "  losses = []\n",
    "  correct_predictions = 0\n",
    "  with torch.no_grad():\n",
    "    for d in data_loader:\n",
    "      input_ids = d[\"input_ids\"].to(device)\n",
    "      attention_mask = d[\"attention_mask\"].to(device)\n",
    "      targets = d[\"targets\"].to(device)\n",
    "      outputs = model(\n",
    "        input_ids=input_ids,\n",
    "        attention_mask=attention_mask\n",
    "      )\n",
    "      _, preds = torch.max(outputs, dim=1)\n",
    "      loss = loss_fn(outputs, targets)\n",
    "      correct_predictions += torch.sum(preds == targets)\n",
    "      losses.append(loss.item())\n",
    "  return correct_predictions.double() / n_examples, np.mean(losses)"
   ]
  },
  {
   "cell_type": "code",
   "execution_count": 9,
   "metadata": {},
   "outputs": [],
   "source": [
    "model = SentimentClassifier(len(class_names))\n",
    "model.load_state_dict(torch.load('best_model_state.bin'))\n",
    "model = model.to(device)"
   ]
  },
  {
   "cell_type": "code",
   "execution_count": 10,
   "metadata": {},
   "outputs": [],
   "source": [
    "def to_sentiment(rating):\n",
    "  rating = int(rating)\n",
    "  if rating <= 2:\n",
    "    return 0\n",
    "  elif rating == 3:\n",
    "    return 1\n",
    "  else:\n",
    "    return 2\n",
    "\n",
    "df['sentiment'] = df.score.apply(to_sentiment)"
   ]
  },
  {
   "cell_type": "code",
   "execution_count": 11,
   "metadata": {},
   "outputs": [],
   "source": [
    "class GPReviewDataset(Dataset):\n",
    "  def __init__(self, reviews, targets, tokenizer, max_len):\n",
    "    self.reviews = reviews\n",
    "    self.targets = targets\n",
    "    self.tokenizer = tokenizer\n",
    "    self.max_len = max_len\n",
    "  def __len__(self):\n",
    "    return len(self.reviews)\n",
    "  def __getitem__(self, item):\n",
    "    review = str(self.reviews[item])\n",
    "    target = self.targets[item]\n",
    "    encoding = self.tokenizer.encode_plus(\n",
    "      review,\n",
    "      add_special_tokens=True,\n",
    "      max_length=self.max_len,\n",
    "      return_token_type_ids=False,\n",
    "      pad_to_max_length=True,\n",
    "      return_attention_mask=True,\n",
    "      return_tensors='pt',\n",
    "    )\n",
    "    return {\n",
    "      'review_text': review,\n",
    "      'input_ids': encoding['input_ids'].flatten(),\n",
    "      'attention_mask': encoding['attention_mask'].flatten(),\n",
    "      'targets': torch.tensor(target, dtype=torch.long)\n",
    "    }"
   ]
  },
  {
   "cell_type": "code",
   "execution_count": 12,
   "metadata": {},
   "outputs": [],
   "source": [
    "def create_data_loader(df, tokenizer, max_len, batch_size):\n",
    "  ds = GPReviewDataset(\n",
    "    reviews=df.content.to_numpy(),\n",
    "    targets=df.sentiment.to_numpy(),\n",
    "    tokenizer=tokenizer,\n",
    "    max_len=max_len\n",
    "  )\n",
    "  return DataLoader(\n",
    "    ds,\n",
    "    batch_size=batch_size,\n",
    "    num_workers=0\n",
    "  )\n",
    "\n",
    "df_train, df_test = train_test_split(\n",
    "  df,\n",
    "  test_size=0.1,\n",
    "  random_state=RANDOM_SEED\n",
    ")\n",
    "\n",
    "test_data_loader = create_data_loader(df_test, tokenizer, MAX_LEN, BATCH_SIZE)"
   ]
  },
  {
   "cell_type": "code",
   "execution_count": 13,
   "metadata": {},
   "outputs": [
    {
     "data": {
      "text/plain": [
       "0.8882539682539683"
      ]
     },
     "execution_count": 13,
     "metadata": {},
     "output_type": "execute_result"
    }
   ],
   "source": [
    "test_acc, _ = eval_model(\n",
    "  model,\n",
    "  test_data_loader,\n",
    "  loss_fn,\n",
    "  device,\n",
    "  len(df_test)\n",
    ")\n",
    "\n",
    "test_acc.item()"
   ]
  },
  {
   "cell_type": "code",
   "execution_count": 14,
   "metadata": {},
   "outputs": [],
   "source": [
    "def get_predictions(model, data_loader):\n",
    "  model = model.eval()\n",
    "  review_texts = []\n",
    "  predictions = []\n",
    "  prediction_probs = []\n",
    "  real_values = []\n",
    "  with torch.no_grad():\n",
    "    for d in data_loader:\n",
    "      texts = d[\"review_text\"]\n",
    "      input_ids = d[\"input_ids\"].to(device)\n",
    "      attention_mask = d[\"attention_mask\"].to(device)\n",
    "      targets = d[\"targets\"].to(device)\n",
    "      outputs = model(\n",
    "        input_ids=input_ids,\n",
    "        attention_mask=attention_mask\n",
    "      )\n",
    "      _, preds = torch.max(outputs, dim=1)\n",
    "      review_texts.extend(texts)\n",
    "      predictions.extend(preds)\n",
    "      prediction_probs.extend(outputs)\n",
    "      real_values.extend(targets)\n",
    "  predictions = torch.stack(predictions).cpu()\n",
    "  prediction_probs = torch.stack(prediction_probs).cpu()\n",
    "  real_values = torch.stack(real_values).cpu()\n",
    "  return review_texts, predictions, prediction_probs, real_values"
   ]
  },
  {
   "cell_type": "code",
   "execution_count": 33,
   "metadata": {},
   "outputs": [],
   "source": [
    "y_review_texts, y_pred, y_pred_probs, y_test = get_predictions(\n",
    "  model,\n",
    "  test_data_loader\n",
    ")"
   ]
  },
  {
   "cell_type": "code",
   "execution_count": 34,
   "metadata": {},
   "outputs": [
    {
     "name": "stdout",
     "output_type": "stream",
     "text": [
      "              precision    recall  f1-score   support\n",
      "\n",
      "    negative       0.91      0.88      0.89       496\n",
      "     neutral       0.83      0.86      0.85       500\n",
      "    positive       0.92      0.92      0.92       579\n",
      "\n",
      "    accuracy                           0.89      1575\n",
      "   macro avg       0.89      0.89      0.89      1575\n",
      "weighted avg       0.89      0.89      0.89      1575\n",
      "\n"
     ]
    }
   ],
   "source": [
    "print(classification_report(y_test, y_pred, target_names=class_names))"
   ]
  },
  {
   "cell_type": "code",
   "execution_count": 35,
   "metadata": {},
   "outputs": [
    {
     "data": {
      "image/png": "[encoded data removed]",
      "text/plain": [
       "<Figure size 864x576 with 2 Axes>"
      ]
     },
     "metadata": {},
     "output_type": "display_data"
    }
   ],
   "source": [
    "def show_confusion_matrix(confusion_matrix):\n",
    "  hmap = sns.heatmap(confusion_matrix, annot=True, fmt=\"d\", cmap=\"Blues\")\n",
    "  hmap.yaxis.set_ticklabels(hmap.yaxis.get_ticklabels(), rotation=0, ha='right')\n",
    "  hmap.xaxis.set_ticklabels(hmap.xaxis.get_ticklabels(), rotation=30, ha='right')\n",
    "  plt.ylabel('True sentiment')\n",
    "  plt.xlabel('Predicted sentiment');\n",
    "cm = confusion_matrix(y_test, y_pred)\n",
    "df_cm = pd.DataFrame(cm, index=class_names, columns=class_names)\n",
    "show_confusion_matrix(df_cm)"
   ]
  },
  {
   "cell_type": "code",
   "execution_count": 39,
   "metadata": {},
   "outputs": [],
   "source": [
    "idx = 3\n",
    "review_text = y_review_texts[idx]\n",
    "true_sentiment = y_test[idx]\n",
    "pred_df = pd.DataFrame({\n",
    "  'class_names': class_names,\n",
    "  'values': y_pred_probs[idx]\n",
    "})"
   ]
  },
  {
   "cell_type": "code",
   "execution_count": 40,
   "metadata": {},
   "outputs": [
    {
     "name": "stdout",
     "output_type": "stream",
     "text": [
      "This is one of the better Habit tracker app Ive tried. A couple of\n",
      "them I deleted after a few days just because they were So Basic yet\n",
      "had the Audacity to charge for a Premium Service. Habitica seems to be\n",
      "much more realistic and actually has a more detailed U.I for setting\n",
      "yourself different kinds of targets/habits. But I would like to give\n",
      "this app 5* once they link this app to your clock and calendar apps\n",
      "(or build in) & add more Notification controls. Looking forwards to\n",
      "updates....TBC\n",
      "\n",
      "True sentiment: neutral\n"
     ]
    }
   ],
   "source": [
    "print(\"\\n\".join(wrap(review_text)))\n",
    "print()\n",
    "print(f'True sentiment: {class_names[true_sentiment]}')"
   ]
  },
  {
   "cell_type": "code",
   "execution_count": 41,
   "metadata": {},
   "outputs": [
    {
     "data": {
      "image/png": "[encoded data removed]",
      "text/plain": [
       "<Figure size 864x576 with 1 Axes>"
      ]
     },
     "metadata": {},
     "output_type": "display_data"
    }
   ],
   "source": [
    "sns.barplot(x='values', y='class_names', data=pred_df, orient='h')\n",
    "plt.ylabel('sentiment')\n",
    "plt.xlabel('probability')\n",
    "plt.xlim([0, 1]);"
   ]
  },
  {
   "cell_type": "markdown",
   "metadata": {},
   "source": [
    "# Sentiment analysis on text"
   ]
  },
  {
   "cell_type": "code",
   "execution_count": 4,
   "metadata": {},
   "outputs": [],
   "source": [
    "review_text = \"I love completing my todos! Best app ever!!!\""
   ]
  },
  {
   "cell_type": "code",
   "execution_count": 5,
   "metadata": {},
   "outputs": [],
   "source": [
    "encoded_review = tokenizer.encode_plus(\n",
    "  review_text,\n",
    "  max_length=MAX_LEN,\n",
    "  add_special_tokens=True,\n",
    "  return_token_type_ids=False,\n",
    "  pad_to_max_length=True,\n",
    "  return_attention_mask=True,\n",
    "  return_tensors='pt',\n",
    ")"
   ]
  },
  {
   "cell_type": "code",
   "execution_count": 15,
   "metadata": {},
   "outputs": [
    {
     "name": "stdout",
     "output_type": "stream",
     "text": [
      "Review text: I love completing my todos! Best app ever!!!\n",
      "Sentiment  : positive\n"
     ]
    }
   ],
   "source": [
    "input_ids = encoded_review['input_ids'].to(device)\n",
    "attention_mask = encoded_review['attention_mask'].to(device)\n",
    "output = model(input_ids, attention_mask)\n",
    "_, prediction = torch.max(output, dim=1)\n",
    "print(f'Review text: {review_text}')\n",
    "print(f'Sentiment  : {class_names[prediction]}')"
   ]
  },
  {
   "cell_type": "code",
   "execution_count": null,
   "metadata": {},
   "outputs": [],
   "source": []
  }
 ],
 "metadata": {
  "kernelspec": {
   "display_name": "Python 3",
   "language": "python",
   "name": "python3"
  },
  "language_info": {
   "codemirror_mode": {
    "name": "ipython",
    "version": 3
   },
   "file_extension": ".py",
   "mimetype": "text/x-python",
   "name": "python",
   "nbconvert_exporter": "python",
   "pygments_lexer": "ipython3",
   "version": "3.6.9"
  }
 },
 "nbformat": 4,
 "nbformat_minor": 4
}
